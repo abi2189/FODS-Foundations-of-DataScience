{
 "cells": [
  {
   "cell_type": "markdown",
   "id": "6ab316b1-0453-491d-934c-cace3633ca0e",
   "metadata": {},
   "source": [
    "# PART A"
   ]
  },
  {
   "cell_type": "code",
   "execution_count": 39,
   "id": "9790028f-9774-46b6-bc97-0433a0a3c4d1",
   "metadata": {},
   "outputs": [],
   "source": [
    "import numpy as np\n",
    "import numpy.random as npr\n",
    "import pandas as pd"
   ]
  },
  {
   "cell_type": "markdown",
   "id": "85b627a6-f673-4216-8268-a3bcea71d0b4",
   "metadata": {},
   "source": [
    "# Question 1 \n",
    "\n",
    "H0: choosing a flower at random and the probability of it being purple is always 75% i.e. the ratio of purple:white is 3:1\n",
    "\n",
    "H1: Choosing a flower at random and the probability of it being purple is not 75% i.e. the ratio of purple:white is not equal 3:1\n",
    "\n"
   ]
  },
  {
   "cell_type": "markdown",
   "id": "cd3f43fc-9743-417f-aec0-bd9f9fc91cbe",
   "metadata": {},
   "source": [
    "# Question 2 \n",
    "\n",
    "HO: prob = 75%\n",
    "\n",
    "H1: prob != 75%"
   ]
  },
  {
   "cell_type": "markdown",
   "id": "8dfac8dd-71b8-4cd2-a815-e5afcb57e754",
   "metadata": {},
   "source": [
    "# Question 3 \n",
    "\n",
    "Total number of flowers = 929\n",
    "\n",
    "Total number of purple flower = 707 (705 + 02)\n",
    "\n",
    "lets create a dataframe where 707 out of 929 is purple and rest is white \n",
    "|"
   ]
  },
  {
   "cell_type": "code",
   "execution_count": 105,
   "id": "c6863020-1c87-46d6-8eba-5e4d6cf27e20",
   "metadata": {},
   "outputs": [
    {
     "data": {
      "text/html": [
       "<div>\n",
       "<style scoped>\n",
       "    .dataframe tbody tr th:only-of-type {\n",
       "        vertical-align: middle;\n",
       "    }\n",
       "\n",
       "    .dataframe tbody tr th {\n",
       "        vertical-align: top;\n",
       "    }\n",
       "\n",
       "    .dataframe thead th {\n",
       "        text-align: right;\n",
       "    }\n",
       "</style>\n",
       "<table border=\"1\" class=\"dataframe\">\n",
       "  <thead>\n",
       "    <tr style=\"text-align: right;\">\n",
       "      <th></th>\n",
       "      <th>pea</th>\n",
       "    </tr>\n",
       "  </thead>\n",
       "  <tbody>\n",
       "    <tr>\n",
       "      <th>0</th>\n",
       "      <td>Purple</td>\n",
       "    </tr>\n",
       "    <tr>\n",
       "      <th>1</th>\n",
       "      <td>Purple</td>\n",
       "    </tr>\n",
       "    <tr>\n",
       "      <th>2</th>\n",
       "      <td>Purple</td>\n",
       "    </tr>\n",
       "    <tr>\n",
       "      <th>3</th>\n",
       "      <td>Purple</td>\n",
       "    </tr>\n",
       "    <tr>\n",
       "      <th>4</th>\n",
       "      <td>Purple</td>\n",
       "    </tr>\n",
       "    <tr>\n",
       "      <th>...</th>\n",
       "      <td>...</td>\n",
       "    </tr>\n",
       "    <tr>\n",
       "      <th>924</th>\n",
       "      <td>White</td>\n",
       "    </tr>\n",
       "    <tr>\n",
       "      <th>925</th>\n",
       "      <td>White</td>\n",
       "    </tr>\n",
       "    <tr>\n",
       "      <th>926</th>\n",
       "      <td>White</td>\n",
       "    </tr>\n",
       "    <tr>\n",
       "      <th>927</th>\n",
       "      <td>White</td>\n",
       "    </tr>\n",
       "    <tr>\n",
       "      <th>928</th>\n",
       "      <td>White</td>\n",
       "    </tr>\n",
       "  </tbody>\n",
       "</table>\n",
       "<p>929 rows × 1 columns</p>\n",
       "</div>"
      ],
      "text/plain": [
       "        pea\n",
       "0    Purple\n",
       "1    Purple\n",
       "2    Purple\n",
       "3    Purple\n",
       "4    Purple\n",
       "..      ...\n",
       "924   White\n",
       "925   White\n",
       "926   White\n",
       "927   White\n",
       "928   White\n",
       "\n",
       "[929 rows x 1 columns]"
      ]
     },
     "execution_count": 105,
     "metadata": {},
     "output_type": "execute_result"
    }
   ],
   "source": [
    "exp = []\n",
    "\n",
    "for i in range(0,713):\n",
    "    exp.append('Purple')\n",
    "    \n",
    "for i in range(0,216):\n",
    "    exp.append('White')\n",
    "               \n",
    "\n",
    "\n",
    "expdf = pd.DataFrame(exp, columns=[\"pea\"])\n",
    "expdf\n"
   ]
  },
  {
   "cell_type": "code",
   "execution_count": 112,
   "id": "ea53f549-5f30-412b-81c6-d7cfe3c16530",
   "metadata": {},
   "outputs": [
    {
     "data": {
      "text/plain": [
       "0      Purple\n",
       "1      Purple\n",
       "2      Purple\n",
       "3      Purple\n",
       "4      Purple\n",
       "        ...  \n",
       "924     White\n",
       "925     White\n",
       "926     White\n",
       "927     White\n",
       "928     White\n",
       "Name: pea, Length: 929, dtype: object"
      ]
     },
     "execution_count": 112,
     "metadata": {},
     "output_type": "execute_result"
    }
   ],
   "source": [
    "color_only = expdf[\"pea\"]\n",
    "color_only"
   ]
  },
  {
   "cell_type": "markdown",
   "id": "c80c2ff9-9766-44ad-8a8f-851a0455c6a9",
   "metadata": {},
   "source": [
    "# QUestion 4"
   ]
  },
  {
   "cell_type": "code",
   "execution_count": 113,
   "id": "9770729b-f337-4d2b-83dc-039d11a5cce9",
   "metadata": {},
   "outputs": [],
   "source": [
    "def getc(sampled):\n",
    "    purple, white = 0,0\n",
    "\n",
    "    for i in sampled:\n",
    "        if i == \"Purple\" :\n",
    "            purple+=1\n",
    "        else:\n",
    "            white+=1\n",
    "            \n",
    "    total = purple+white\n",
    "    p = (purple/total) * 100\n",
    "    w = (white/total) * 100\n",
    "            \n",
    "    return [p,w]"
   ]
  },
  {
   "cell_type": "code",
   "execution_count": 114,
   "id": "fa01013e-25a1-4333-ad44-5d2665b71e8a",
   "metadata": {},
   "outputs": [
    {
     "data": {
      "text/plain": [
       "[[73.0, 27.0],\n",
       " [75.0, 25.0],\n",
       " [82.0, 18.0],\n",
       " [74.0, 26.0],\n",
       " [74.0, 26.0],\n",
       " [78.0, 22.0],\n",
       " [76.0, 24.0],\n",
       " [80.0, 20.0],\n",
       " [77.0, 23.0],\n",
       " [76.0, 24.0]]"
      ]
     },
     "execution_count": 114,
     "metadata": {},
     "output_type": "execute_result"
    }
   ],
   "source": [
    "sample_simulations = []\n",
    "for i in range(2002):\n",
    "    s = color_only.sample(n=100,replace=False)\n",
    "    li = getCountInPercent(s)\n",
    "    sample_simulations.append(li)\n",
    "    \n",
    "sample_simulations[:10]"
   ]
  },
  {
   "cell_type": "code",
   "execution_count": null,
   "id": "197bc8a8-f385-4825-9e97-5818bc04bac5",
   "metadata": {},
   "outputs": [],
   "source": []
  },
  {
   "cell_type": "markdown",
   "id": "ecc16783-0843-4763-ab4f-590150008d07",
   "metadata": {},
   "source": [
    "#Question"
   ]
  },
  {
   "cell_type": "code",
   "execution_count": 115,
   "id": "1dd4d3c5-bd6b-4459-8809-719e28d87bdc",
   "metadata": {},
   "outputs": [
    {
     "data": {
      "text/html": [
       "<div>\n",
       "<style scoped>\n",
       "    .dataframe tbody tr th:only-of-type {\n",
       "        vertical-align: middle;\n",
       "    }\n",
       "\n",
       "    .dataframe tbody tr th {\n",
       "        vertical-align: top;\n",
       "    }\n",
       "\n",
       "    .dataframe thead th {\n",
       "        text-align: right;\n",
       "    }\n",
       "</style>\n",
       "<table border=\"1\" class=\"dataframe\">\n",
       "  <thead>\n",
       "    <tr style=\"text-align: right;\">\n",
       "      <th></th>\n",
       "      <th>Purple %</th>\n",
       "      <th>White %</th>\n",
       "    </tr>\n",
       "  </thead>\n",
       "  <tbody>\n",
       "    <tr>\n",
       "      <th>0</th>\n",
       "      <td>73.0</td>\n",
       "      <td>27.0</td>\n",
       "    </tr>\n",
       "    <tr>\n",
       "      <th>1</th>\n",
       "      <td>75.0</td>\n",
       "      <td>25.0</td>\n",
       "    </tr>\n",
       "    <tr>\n",
       "      <th>2</th>\n",
       "      <td>82.0</td>\n",
       "      <td>18.0</td>\n",
       "    </tr>\n",
       "    <tr>\n",
       "      <th>3</th>\n",
       "      <td>74.0</td>\n",
       "      <td>26.0</td>\n",
       "    </tr>\n",
       "    <tr>\n",
       "      <th>4</th>\n",
       "      <td>74.0</td>\n",
       "      <td>26.0</td>\n",
       "    </tr>\n",
       "    <tr>\n",
       "      <th>...</th>\n",
       "      <td>...</td>\n",
       "      <td>...</td>\n",
       "    </tr>\n",
       "    <tr>\n",
       "      <th>1997</th>\n",
       "      <td>73.0</td>\n",
       "      <td>27.0</td>\n",
       "    </tr>\n",
       "    <tr>\n",
       "      <th>1998</th>\n",
       "      <td>84.0</td>\n",
       "      <td>16.0</td>\n",
       "    </tr>\n",
       "    <tr>\n",
       "      <th>1999</th>\n",
       "      <td>76.0</td>\n",
       "      <td>24.0</td>\n",
       "    </tr>\n",
       "    <tr>\n",
       "      <th>2000</th>\n",
       "      <td>76.0</td>\n",
       "      <td>24.0</td>\n",
       "    </tr>\n",
       "    <tr>\n",
       "      <th>2001</th>\n",
       "      <td>79.0</td>\n",
       "      <td>21.0</td>\n",
       "    </tr>\n",
       "  </tbody>\n",
       "</table>\n",
       "<p>2002 rows × 2 columns</p>\n",
       "</div>"
      ],
      "text/plain": [
       "      Purple %  White %\n",
       "0         73.0     27.0\n",
       "1         75.0     25.0\n",
       "2         82.0     18.0\n",
       "3         74.0     26.0\n",
       "4         74.0     26.0\n",
       "...        ...      ...\n",
       "1997      73.0     27.0\n",
       "1998      84.0     16.0\n",
       "1999      76.0     24.0\n",
       "2000      76.0     24.0\n",
       "2001      79.0     21.0\n",
       "\n",
       "[2002 rows x 2 columns]"
      ]
     },
     "execution_count": 115,
     "metadata": {},
     "output_type": "execute_result"
    }
   ],
   "source": [
    "sample_df = pd.DataFrame(sample_simulations, columns = [\"Purple %\", \"White %\"])\n",
    "sample_df"
   ]
  },
  {
   "cell_type": "markdown",
   "id": "a71018b0-d16f-4ee5-ad4d-81179b2f100d",
   "metadata": {},
   "source": [
    "# Question 5"
   ]
  },
  {
   "cell_type": "code",
   "execution_count": 122,
   "id": "56c3bfc5-0723-4da3-bf8d-338d66c10392",
   "metadata": {},
   "outputs": [
    {
     "data": {
      "text/plain": [
       "<matplotlib.collections.PathCollection at 0x7fb41b7c5280>"
      ]
     },
     "execution_count": 122,
     "metadata": {},
     "output_type": "execute_result"
    },
    {
     "data": {
      "image/png": "[encoded data removed]",
      "text/plain": [
       "<Figure size 432x288 with 1 Axes>"
      ]
     },
     "metadata": {
      "needs_background": "light"
     },
     "output_type": "display_data"
    }
   ],
   "source": [
    "import matplotlib.pyplot as plt\n",
    "sample_df.hist(\"Purple %\")\n",
    "plt.scatter(75,0,color='red',s=30)"
   ]
  },
  {
   "cell_type": "markdown",
   "id": "f9af956f-cd71-4cf7-8cd1-fbaeb66ce8dc",
   "metadata": {},
   "source": [
    "# Question 6\n",
    "Since the value lies in the distribution it can be concluded that it cant reject the mendels hypothesis whi is null hypothesis "
   ]
  },
  {
   "cell_type": "markdown",
   "id": "f197db4a-4d3d-4584-b8e4-33d770b051fb",
   "metadata": {},
   "source": [
    "# PART B"
   ]
  },
  {
   "cell_type": "code",
   "execution_count": 17,
   "id": "9f192c09-c221-4aeb-b1d5-d3d5d67b7683",
   "metadata": {},
   "outputs": [],
   "source": [
    "#H0 : mean = 60\n",
    "#H1 : mean!= 60\n",
    "\n",
    "import numpy as np\n",
    "import scipy.stats as st\n",
    "\n",
    "n = 30\n",
    "degrees_of_freedom = n-1\n",
    "xbar = 65.10\n",
    "mu = 60\n",
    "s = 13.46\n",
    "alpha = 0.05"
   ]
  },
  {
   "cell_type": "code",
   "execution_count": 14,
   "id": "6f9a699a-9a53-4617-84b5-5702df64102e",
   "metadata": {},
   "outputs": [
    {
     "data": {
      "text/plain": [
       "2.075323211943792"
      ]
     },
     "execution_count": 14,
     "metadata": {},
     "output_type": "execute_result"
    }
   ],
   "source": [
    "t = (xbar - mu)/(s / np.sqrt(n))\n",
    "t"
   ]
  },
  {
   "cell_type": "code",
   "execution_count": 15,
   "id": "ab69618f-c0a3-440c-8a32-6b19629ca3dd",
   "metadata": {},
   "outputs": [
    {
     "data": {
      "text/plain": [
       "0.046932092328964004"
      ]
     },
     "execution_count": 15,
     "metadata": {},
     "output_type": "execute_result"
    }
   ],
   "source": [
    "p_val = 2*(1 - st.t.cdf(abs(t), degrees_of_freedom)) \n",
    "p_val"
   ]
  },
  {
   "cell_type": "code",
   "execution_count": 16,
   "id": "d426ee9e-2aeb-45a8-bd1b-fbd3121dd422",
   "metadata": {},
   "outputs": [
    {
     "name": "stdout",
     "output_type": "stream",
     "text": [
      "Reject null hypothesis\n"
     ]
    }
   ],
   "source": [
    "if (p_val > alpha):\n",
    "    print(\"Null hypothesis cannot be rejected\")\n",
    "else:\n",
    "    print(\"Reject null hypothesis\")"
   ]
  },
  {
   "cell_type": "code",
   "execution_count": null,
   "id": "f7512dea-7368-4b7a-a679-9e92d3948869",
   "metadata": {},
   "outputs": [],
   "source": []
  }
 ],
 "metadata": {
  "kernelspec": {
   "display_name": "Python 3 (ipykernel)",
   "language": "python",
   "name": "python3"
  },
  "language_info": {
   "codemirror_mode": {
    "name": "ipython",
    "version": 3
   },
   "file_extension": ".py",
   "mimetype": "text/x-python",
   "name": "python",
   "nbconvert_exporter": "python",
   "pygments_lexer": "ipython3",
   "version": "3.9.12"
  }
 },
 "nbformat": 4,
 "nbformat_minor": 5
}
