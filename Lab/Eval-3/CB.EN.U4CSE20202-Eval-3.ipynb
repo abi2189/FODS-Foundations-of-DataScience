{
 "cells": [
  {
   "cell_type": "markdown",
   "id": "45adfc12-2fe8-44f9-9725-ce1c6ac570ac",
   "metadata": {},
   "source": [
    "Roll Number - **CB.EN.U4CSE20202**\n",
    "\n",
    "Name - **Abirami S**"
   ]
  },
  {
   "cell_type": "code",
   "execution_count": 105,
   "id": "ad5720d9-5482-45ae-8da7-0d27f0fae955",
   "metadata": {},
   "outputs": [],
   "source": [
    "import pandas as pd\n",
    "import numpy as np \n",
    "import array\n",
    "import matplotlib\n",
    "%matplotlib inline\n",
    "import matplotlib.pyplot as plt\n",
    "plt.style.use('fivethirtyeight')"
   ]
  },
  {
   "cell_type": "code",
   "execution_count": 106,
   "id": "dae0e9af-f25f-439c-a0b7-64804fe657eb",
   "metadata": {},
   "outputs": [
    {
     "data": {
      "text/html": [
       "<div>\n",
       "<style scoped>\n",
       "    .dataframe tbody tr th:only-of-type {\n",
       "        vertical-align: middle;\n",
       "    }\n",
       "\n",
       "    .dataframe tbody tr th {\n",
       "        vertical-align: top;\n",
       "    }\n",
       "\n",
       "    .dataframe thead th {\n",
       "        text-align: right;\n",
       "    }\n",
       "</style>\n",
       "<table border=\"1\" class=\"dataframe\">\n",
       "  <thead>\n",
       "    <tr style=\"text-align: right;\">\n",
       "      <th></th>\n",
       "      <th>Unnamed: 0</th>\n",
       "      <th>Birth Weight</th>\n",
       "      <th>Gestational Days</th>\n",
       "      <th>Maternal Age</th>\n",
       "      <th>Maternal Height</th>\n",
       "      <th>Maternal Pregnancy Weight</th>\n",
       "      <th>Maternal Smoker</th>\n",
       "    </tr>\n",
       "  </thead>\n",
       "  <tbody>\n",
       "    <tr>\n",
       "      <th>0</th>\n",
       "      <td>0</td>\n",
       "      <td>120</td>\n",
       "      <td>284</td>\n",
       "      <td>27</td>\n",
       "      <td>62</td>\n",
       "      <td>100</td>\n",
       "      <td>False</td>\n",
       "    </tr>\n",
       "    <tr>\n",
       "      <th>1</th>\n",
       "      <td>1</td>\n",
       "      <td>113</td>\n",
       "      <td>282</td>\n",
       "      <td>33</td>\n",
       "      <td>64</td>\n",
       "      <td>135</td>\n",
       "      <td>False</td>\n",
       "    </tr>\n",
       "    <tr>\n",
       "      <th>2</th>\n",
       "      <td>2</td>\n",
       "      <td>128</td>\n",
       "      <td>279</td>\n",
       "      <td>28</td>\n",
       "      <td>64</td>\n",
       "      <td>115</td>\n",
       "      <td>True</td>\n",
       "    </tr>\n",
       "    <tr>\n",
       "      <th>3</th>\n",
       "      <td>3</td>\n",
       "      <td>108</td>\n",
       "      <td>282</td>\n",
       "      <td>23</td>\n",
       "      <td>67</td>\n",
       "      <td>125</td>\n",
       "      <td>True</td>\n",
       "    </tr>\n",
       "    <tr>\n",
       "      <th>4</th>\n",
       "      <td>4</td>\n",
       "      <td>136</td>\n",
       "      <td>286</td>\n",
       "      <td>25</td>\n",
       "      <td>62</td>\n",
       "      <td>93</td>\n",
       "      <td>False</td>\n",
       "    </tr>\n",
       "    <tr>\n",
       "      <th>...</th>\n",
       "      <td>...</td>\n",
       "      <td>...</td>\n",
       "      <td>...</td>\n",
       "      <td>...</td>\n",
       "      <td>...</td>\n",
       "      <td>...</td>\n",
       "      <td>...</td>\n",
       "    </tr>\n",
       "    <tr>\n",
       "      <th>1169</th>\n",
       "      <td>1169</td>\n",
       "      <td>113</td>\n",
       "      <td>275</td>\n",
       "      <td>27</td>\n",
       "      <td>60</td>\n",
       "      <td>100</td>\n",
       "      <td>False</td>\n",
       "    </tr>\n",
       "    <tr>\n",
       "      <th>1170</th>\n",
       "      <td>1170</td>\n",
       "      <td>128</td>\n",
       "      <td>265</td>\n",
       "      <td>24</td>\n",
       "      <td>67</td>\n",
       "      <td>120</td>\n",
       "      <td>False</td>\n",
       "    </tr>\n",
       "    <tr>\n",
       "      <th>1171</th>\n",
       "      <td>1171</td>\n",
       "      <td>130</td>\n",
       "      <td>291</td>\n",
       "      <td>30</td>\n",
       "      <td>65</td>\n",
       "      <td>150</td>\n",
       "      <td>True</td>\n",
       "    </tr>\n",
       "    <tr>\n",
       "      <th>1172</th>\n",
       "      <td>1172</td>\n",
       "      <td>125</td>\n",
       "      <td>281</td>\n",
       "      <td>21</td>\n",
       "      <td>65</td>\n",
       "      <td>110</td>\n",
       "      <td>False</td>\n",
       "    </tr>\n",
       "    <tr>\n",
       "      <th>1173</th>\n",
       "      <td>1173</td>\n",
       "      <td>117</td>\n",
       "      <td>297</td>\n",
       "      <td>38</td>\n",
       "      <td>65</td>\n",
       "      <td>129</td>\n",
       "      <td>False</td>\n",
       "    </tr>\n",
       "  </tbody>\n",
       "</table>\n",
       "<p>1174 rows × 7 columns</p>\n",
       "</div>"
      ],
      "text/plain": [
       "      Unnamed: 0  Birth Weight  Gestational Days  Maternal Age  \\\n",
       "0              0           120               284            27   \n",
       "1              1           113               282            33   \n",
       "2              2           128               279            28   \n",
       "3              3           108               282            23   \n",
       "4              4           136               286            25   \n",
       "...          ...           ...               ...           ...   \n",
       "1169        1169           113               275            27   \n",
       "1170        1170           128               265            24   \n",
       "1171        1171           130               291            30   \n",
       "1172        1172           125               281            21   \n",
       "1173        1173           117               297            38   \n",
       "\n",
       "      Maternal Height  Maternal Pregnancy Weight  Maternal Smoker  \n",
       "0                  62                        100            False  \n",
       "1                  64                        135            False  \n",
       "2                  64                        115             True  \n",
       "3                  67                        125             True  \n",
       "4                  62                         93            False  \n",
       "...               ...                        ...              ...  \n",
       "1169               60                        100            False  \n",
       "1170               67                        120            False  \n",
       "1171               65                        150             True  \n",
       "1172               65                        110            False  \n",
       "1173               65                        129            False  \n",
       "\n",
       "[1174 rows x 7 columns]"
      ]
     },
     "execution_count": 106,
     "metadata": {},
     "output_type": "execute_result"
    }
   ],
   "source": [
    "baby = pd.read_csv('test.csv')\n",
    "baby"
   ]
  },
  {
   "cell_type": "code",
   "execution_count": 107,
   "id": "74f2346f-2f5e-456b-8b2a-731575fb12c6",
   "metadata": {},
   "outputs": [
    {
     "data": {
      "text/html": [
       "<div>\n",
       "<style scoped>\n",
       "    .dataframe tbody tr th:only-of-type {\n",
       "        vertical-align: middle;\n",
       "    }\n",
       "\n",
       "    .dataframe tbody tr th {\n",
       "        vertical-align: top;\n",
       "    }\n",
       "\n",
       "    .dataframe thead th {\n",
       "        text-align: right;\n",
       "    }\n",
       "</style>\n",
       "<table border=\"1\" class=\"dataframe\">\n",
       "  <thead>\n",
       "    <tr style=\"text-align: right;\">\n",
       "      <th></th>\n",
       "      <th>Maternal Smoker</th>\n",
       "      <th>Maternal Age</th>\n",
       "    </tr>\n",
       "  </thead>\n",
       "  <tbody>\n",
       "    <tr>\n",
       "      <th>0</th>\n",
       "      <td>False</td>\n",
       "      <td>27</td>\n",
       "    </tr>\n",
       "    <tr>\n",
       "      <th>1</th>\n",
       "      <td>False</td>\n",
       "      <td>33</td>\n",
       "    </tr>\n",
       "    <tr>\n",
       "      <th>2</th>\n",
       "      <td>True</td>\n",
       "      <td>28</td>\n",
       "    </tr>\n",
       "    <tr>\n",
       "      <th>3</th>\n",
       "      <td>True</td>\n",
       "      <td>23</td>\n",
       "    </tr>\n",
       "    <tr>\n",
       "      <th>4</th>\n",
       "      <td>False</td>\n",
       "      <td>25</td>\n",
       "    </tr>\n",
       "    <tr>\n",
       "      <th>...</th>\n",
       "      <td>...</td>\n",
       "      <td>...</td>\n",
       "    </tr>\n",
       "    <tr>\n",
       "      <th>1169</th>\n",
       "      <td>False</td>\n",
       "      <td>27</td>\n",
       "    </tr>\n",
       "    <tr>\n",
       "      <th>1170</th>\n",
       "      <td>False</td>\n",
       "      <td>24</td>\n",
       "    </tr>\n",
       "    <tr>\n",
       "      <th>1171</th>\n",
       "      <td>True</td>\n",
       "      <td>30</td>\n",
       "    </tr>\n",
       "    <tr>\n",
       "      <th>1172</th>\n",
       "      <td>False</td>\n",
       "      <td>21</td>\n",
       "    </tr>\n",
       "    <tr>\n",
       "      <th>1173</th>\n",
       "      <td>False</td>\n",
       "      <td>38</td>\n",
       "    </tr>\n",
       "  </tbody>\n",
       "</table>\n",
       "<p>1174 rows × 2 columns</p>\n",
       "</div>"
      ],
      "text/plain": [
       "      Maternal Smoker  Maternal Age\n",
       "0               False            27\n",
       "1               False            33\n",
       "2                True            28\n",
       "3                True            23\n",
       "4               False            25\n",
       "...               ...           ...\n",
       "1169            False            27\n",
       "1170            False            24\n",
       "1171             True            30\n",
       "1172            False            21\n",
       "1173            False            38\n",
       "\n",
       "[1174 rows x 2 columns]"
      ]
     },
     "execution_count": 107,
     "metadata": {},
     "output_type": "execute_result"
    }
   ],
   "source": [
    "Age_and_smoking = baby[['Maternal Smoker', 'Maternal Age']]\n",
    "Age_and_smoking"
   ]
  },
  {
   "cell_type": "code",
   "execution_count": 108,
   "id": "88f1e181-9778-47c2-8360-238eeaa3ae16",
   "metadata": {},
   "outputs": [],
   "source": [
    "smoker = Age_and_smoking['Maternal Age'] [Age_and_smoking['Maternal Smoker'] == True]\n",
    "non_smoker = Age_and_smoking['Maternal Age'] [Age_and_smoking['Maternal Smoker'] == False]"
   ]
  },
  {
   "cell_type": "code",
   "execution_count": 109,
   "id": "77334432-cc8d-4248-8bae-49c9fd02a39b",
   "metadata": {},
   "outputs": [],
   "source": [
    "#Age_and_smoking.hist(by ='Maternal Smoker')"
   ]
  },
  {
   "cell_type": "markdown",
   "id": "e5319815-1c90-400c-b154-cee8d6b39eed",
   "metadata": {},
   "source": [
    "## Question 1"
   ]
  },
  {
   "cell_type": "code",
   "execution_count": 110,
   "id": "bf143abe-4775-477c-bb6a-7e8ccfabbb15",
   "metadata": {},
   "outputs": [
    {
     "data": {
      "image/png": "[encoded data removed]",
      "text/plain": [
       "<Figure size 432x288 with 1 Axes>"
      ]
     },
     "metadata": {},
     "output_type": "display_data"
    }
   ],
   "source": [
    "import seaborn as sns\n",
    "smoker.hist(histtype='stepfilled', alpha=.5)   \n",
    "non_smoker.hist(histtype='stepfilled', alpha=.5, color=sns.desaturate(\"indianred\", .75))\n",
    "plt.xlabel('Women',fontsize=15)\n",
    "plt.ylabel('Age',fontsize=15)\n",
    "plt.show()"
   ]
  },
  {
   "cell_type": "code",
   "execution_count": 111,
   "id": "1ebdc01e-86c8-46b7-8b96-ffd98caba7ba",
   "metadata": {},
   "outputs": [
    {
     "name": "stdout",
     "output_type": "stream",
     "text": [
      "Smoker Skewness:  0.5872488858936287\n",
      "Smoker Skewness:  0.6150457477108131\n"
     ]
    }
   ],
   "source": [
    "print('Non-Smoker Skewness: ',non_smoker.skew())\n",
    "print('Smoker Skewness: ',smoker.skew())\n"
   ]
  },
  {
   "cell_type": "markdown",
   "id": "f1e8c51a-a8ef-4c03-acef-500eee3a3be2",
   "metadata": {},
   "source": [
    "#### Note\n",
    "- **From the skewness values smoker are more inclined to the left**"
   ]
  },
  {
   "cell_type": "code",
   "execution_count": 114,
   "id": "651b340d-93cf-42b3-811f-e1dfc8e5f048",
   "metadata": {},
   "outputs": [
    {
     "name": "stdout",
     "output_type": "stream",
     "text": [
      "Smoker mean:  26.736383442265794\n",
      "Non-Smoker mean:  27.544055944055945\n"
     ]
    }
   ],
   "source": [
    "print('Smoker mean: ',smoker.mean())\n",
    "print('Non-Smoker mean: ',non_smoker.mean())\n"
   ]
  },
  {
   "cell_type": "markdown",
   "id": "be994175-b2f2-4d71-8408-6bc202dcae06",
   "metadata": {},
   "source": [
    "## Question 2"
   ]
  },
  {
   "cell_type": "code",
   "execution_count": 52,
   "id": "7711bf07-9296-496b-b9e3-6631b8f38e23",
   "metadata": {},
   "outputs": [
    {
     "data": {
      "text/html": [
       "<div>\n",
       "<style scoped>\n",
       "    .dataframe tbody tr th:only-of-type {\n",
       "        vertical-align: middle;\n",
       "    }\n",
       "\n",
       "    .dataframe tbody tr th {\n",
       "        vertical-align: top;\n",
       "    }\n",
       "\n",
       "    .dataframe thead th {\n",
       "        text-align: right;\n",
       "    }\n",
       "</style>\n",
       "<table border=\"1\" class=\"dataframe\">\n",
       "  <thead>\n",
       "    <tr style=\"text-align: right;\">\n",
       "      <th></th>\n",
       "      <th>Maternal Age</th>\n",
       "    </tr>\n",
       "    <tr>\n",
       "      <th>Maternal Smoker</th>\n",
       "      <th></th>\n",
       "    </tr>\n",
       "  </thead>\n",
       "  <tbody>\n",
       "    <tr>\n",
       "      <th>False</th>\n",
       "      <td>27.544056</td>\n",
       "    </tr>\n",
       "    <tr>\n",
       "      <th>True</th>\n",
       "      <td>26.736383</td>\n",
       "    </tr>\n",
       "  </tbody>\n",
       "</table>\n",
       "</div>"
      ],
      "text/plain": [
       "                 Maternal Age\n",
       "Maternal Smoker              \n",
       "False               27.544056\n",
       "True                26.736383"
      ]
     },
     "execution_count": 52,
     "metadata": {},
     "output_type": "execute_result"
    }
   ],
   "source": [
    "means_table = Age_and_smoking.groupby('Maternal Smoker').mean()\n",
    "means_table"
   ]
  },
  {
   "cell_type": "code",
   "execution_count": 115,
   "id": "12dcb9b7-da29-4e3b-814e-df74303ba220",
   "metadata": {},
   "outputs": [
    {
     "data": {
      "text/plain": [
       "-0.8076725017901509"
      ]
     },
     "execution_count": 115,
     "metadata": {},
     "output_type": "execute_result"
    }
   ],
   "source": [
    "observed_difference = means_table['Maternal Age'][1] - means_table['Maternal Age'][0]\n",
    "observed_difference"
   ]
  },
  {
   "cell_type": "markdown",
   "id": "c4a0c294-74a7-4f34-80ab-3c0013a908a1",
   "metadata": {},
   "source": [
    "### Statistical data \n",
    "- Average age of smokers are less than average age of non smokers\n",
    "- i.e mean(smokers)< mean(smokers)\n",
    "- **Random permutation test can be performed**"
   ]
  },
  {
   "cell_type": "markdown",
   "id": "05efa6f2-ee42-475f-9659-c1a3863c9a37",
   "metadata": {
    "tags": []
   },
   "source": [
    "## Question 3 \n",
    "\n",
    "\n",
    "**NULL HYPOTHESIS**\n",
    "- The average mean of age of smokers is not less than average mean of age of non smokers \n",
    "\n",
    "**ALTERNATE HYPOTHESIS**\n",
    "- The average mean of age of smokers is less than average mean of age of non smokers "
   ]
  },
  {
   "cell_type": "code",
   "execution_count": 116,
   "id": "7e01db86-5166-4d75-8132-7a641060322d",
   "metadata": {},
   "outputs": [
    {
     "data": {
      "text/html": [
       "<div>\n",
       "<style scoped>\n",
       "    .dataframe tbody tr th:only-of-type {\n",
       "        vertical-align: middle;\n",
       "    }\n",
       "\n",
       "    .dataframe tbody tr th {\n",
       "        vertical-align: top;\n",
       "    }\n",
       "\n",
       "    .dataframe thead th {\n",
       "        text-align: right;\n",
       "    }\n",
       "</style>\n",
       "<table border=\"1\" class=\"dataframe\">\n",
       "  <thead>\n",
       "    <tr style=\"text-align: right;\">\n",
       "      <th></th>\n",
       "      <th>Maternal Smoker</th>\n",
       "      <th>Maternal Age</th>\n",
       "    </tr>\n",
       "  </thead>\n",
       "  <tbody>\n",
       "    <tr>\n",
       "      <th>0</th>\n",
       "      <td>False</td>\n",
       "      <td>27</td>\n",
       "    </tr>\n",
       "    <tr>\n",
       "      <th>1</th>\n",
       "      <td>False</td>\n",
       "      <td>33</td>\n",
       "    </tr>\n",
       "    <tr>\n",
       "      <th>2</th>\n",
       "      <td>True</td>\n",
       "      <td>28</td>\n",
       "    </tr>\n",
       "    <tr>\n",
       "      <th>3</th>\n",
       "      <td>True</td>\n",
       "      <td>23</td>\n",
       "    </tr>\n",
       "    <tr>\n",
       "      <th>4</th>\n",
       "      <td>False</td>\n",
       "      <td>25</td>\n",
       "    </tr>\n",
       "    <tr>\n",
       "      <th>...</th>\n",
       "      <td>...</td>\n",
       "      <td>...</td>\n",
       "    </tr>\n",
       "    <tr>\n",
       "      <th>1169</th>\n",
       "      <td>False</td>\n",
       "      <td>27</td>\n",
       "    </tr>\n",
       "    <tr>\n",
       "      <th>1170</th>\n",
       "      <td>False</td>\n",
       "      <td>24</td>\n",
       "    </tr>\n",
       "    <tr>\n",
       "      <th>1171</th>\n",
       "      <td>True</td>\n",
       "      <td>30</td>\n",
       "    </tr>\n",
       "    <tr>\n",
       "      <th>1172</th>\n",
       "      <td>False</td>\n",
       "      <td>21</td>\n",
       "    </tr>\n",
       "    <tr>\n",
       "      <th>1173</th>\n",
       "      <td>False</td>\n",
       "      <td>38</td>\n",
       "    </tr>\n",
       "  </tbody>\n",
       "</table>\n",
       "<p>1174 rows × 2 columns</p>\n",
       "</div>"
      ],
      "text/plain": [
       "      Maternal Smoker  Maternal Age\n",
       "0               False            27\n",
       "1               False            33\n",
       "2                True            28\n",
       "3                True            23\n",
       "4               False            25\n",
       "...               ...           ...\n",
       "1169            False            27\n",
       "1170            False            24\n",
       "1171             True            30\n",
       "1172            False            21\n",
       "1173            False            38\n",
       "\n",
       "[1174 rows x 2 columns]"
      ]
     },
     "execution_count": 116,
     "metadata": {},
     "output_type": "execute_result"
    }
   ],
   "source": [
    "Age_and_smoking"
   ]
  },
  {
   "cell_type": "markdown",
   "id": "6e2e0360-2656-4d67-90a2-17e65c044722",
   "metadata": {},
   "source": [
    "## Question 4"
   ]
  },
  {
   "cell_type": "markdown",
   "id": "3a82c840-e094-4cfb-b473-af4829f7424c",
   "metadata": {},
   "source": [
    "- Calculate the mean differences of the permutation test and compare it with the observed given mean difference \n",
    "- Hance with this data we can conclude wether it favours null or alternate hypothesis"
   ]
  },
  {
   "cell_type": "markdown",
   "id": "721bc374-b35a-4825-83cb-b5e9b6614720",
   "metadata": {},
   "source": [
    "## Question 5"
   ]
  },
  {
   "cell_type": "code",
   "execution_count": 117,
   "id": "98d4091f-3431-4236-9141-c96d8920959f",
   "metadata": {},
   "outputs": [
    {
     "data": {
      "text/plain": [
       "-0.8076725017901509"
      ]
     },
     "execution_count": 117,
     "metadata": {},
     "output_type": "execute_result"
    }
   ],
   "source": [
    "observed_difference = means_table['Maternal Age'][1] - means_table['Maternal Age'][0]\n",
    "observed_difference"
   ]
  },
  {
   "cell_type": "code",
   "execution_count": 118,
   "id": "4a2f6b9d-25d3-4c1a-9797-4786592d69b6",
   "metadata": {},
   "outputs": [
    {
     "data": {
      "text/html": [
       "<div>\n",
       "<style scoped>\n",
       "    .dataframe tbody tr th:only-of-type {\n",
       "        vertical-align: middle;\n",
       "    }\n",
       "\n",
       "    .dataframe tbody tr th {\n",
       "        vertical-align: top;\n",
       "    }\n",
       "\n",
       "    .dataframe thead th {\n",
       "        text-align: right;\n",
       "    }\n",
       "</style>\n",
       "<table border=\"1\" class=\"dataframe\">\n",
       "  <thead>\n",
       "    <tr style=\"text-align: right;\">\n",
       "      <th></th>\n",
       "      <th>Maternal Smoker</th>\n",
       "      <th>Maternal Age</th>\n",
       "    </tr>\n",
       "  </thead>\n",
       "  <tbody>\n",
       "    <tr>\n",
       "      <th>42</th>\n",
       "      <td>True</td>\n",
       "      <td>27</td>\n",
       "    </tr>\n",
       "    <tr>\n",
       "      <th>1014</th>\n",
       "      <td>True</td>\n",
       "      <td>41</td>\n",
       "    </tr>\n",
       "    <tr>\n",
       "      <th>136</th>\n",
       "      <td>False</td>\n",
       "      <td>24</td>\n",
       "    </tr>\n",
       "    <tr>\n",
       "      <th>1171</th>\n",
       "      <td>True</td>\n",
       "      <td>30</td>\n",
       "    </tr>\n",
       "    <tr>\n",
       "      <th>1070</th>\n",
       "      <td>False</td>\n",
       "      <td>40</td>\n",
       "    </tr>\n",
       "    <tr>\n",
       "      <th>...</th>\n",
       "      <td>...</td>\n",
       "      <td>...</td>\n",
       "    </tr>\n",
       "    <tr>\n",
       "      <th>316</th>\n",
       "      <td>True</td>\n",
       "      <td>30</td>\n",
       "    </tr>\n",
       "    <tr>\n",
       "      <th>1120</th>\n",
       "      <td>True</td>\n",
       "      <td>31</td>\n",
       "    </tr>\n",
       "    <tr>\n",
       "      <th>1017</th>\n",
       "      <td>False</td>\n",
       "      <td>34</td>\n",
       "    </tr>\n",
       "    <tr>\n",
       "      <th>654</th>\n",
       "      <td>False</td>\n",
       "      <td>23</td>\n",
       "    </tr>\n",
       "    <tr>\n",
       "      <th>322</th>\n",
       "      <td>True</td>\n",
       "      <td>42</td>\n",
       "    </tr>\n",
       "  </tbody>\n",
       "</table>\n",
       "<p>1174 rows × 2 columns</p>\n",
       "</div>"
      ],
      "text/plain": [
       "      Maternal Smoker  Maternal Age\n",
       "42               True            27\n",
       "1014             True            41\n",
       "136             False            24\n",
       "1171             True            30\n",
       "1070            False            40\n",
       "...               ...           ...\n",
       "316              True            30\n",
       "1120             True            31\n",
       "1017            False            34\n",
       "654             False            23\n",
       "322              True            42\n",
       "\n",
       "[1174 rows x 2 columns]"
      ]
     },
     "execution_count": 118,
     "metadata": {},
     "output_type": "execute_result"
    }
   ],
   "source": [
    "shuffled = Age_and_smoking.sample(1174,replace = False)\n",
    "shuffled"
   ]
  },
  {
   "cell_type": "code",
   "execution_count": 119,
   "id": "a1e68d70-a856-4d16-95d4-88161a55bf64",
   "metadata": {},
   "outputs": [],
   "source": [
    "shuffled_age = shuffled['Maternal Age']"
   ]
  },
  {
   "cell_type": "code",
   "execution_count": 120,
   "id": "681b6fd1-5094-41f1-924d-3ebf8919449b",
   "metadata": {},
   "outputs": [
    {
     "data": {
      "text/html": [
       "<div>\n",
       "<style scoped>\n",
       "    .dataframe tbody tr th:only-of-type {\n",
       "        vertical-align: middle;\n",
       "    }\n",
       "\n",
       "    .dataframe tbody tr th {\n",
       "        vertical-align: top;\n",
       "    }\n",
       "\n",
       "    .dataframe thead th {\n",
       "        text-align: right;\n",
       "    }\n",
       "</style>\n",
       "<table border=\"1\" class=\"dataframe\">\n",
       "  <thead>\n",
       "    <tr style=\"text-align: right;\">\n",
       "      <th></th>\n",
       "      <th>Maternal Smoker</th>\n",
       "      <th>Maternal Age</th>\n",
       "      <th>shuffled_age</th>\n",
       "    </tr>\n",
       "  </thead>\n",
       "  <tbody>\n",
       "    <tr>\n",
       "      <th>0</th>\n",
       "      <td>False</td>\n",
       "      <td>27</td>\n",
       "      <td>27</td>\n",
       "    </tr>\n",
       "    <tr>\n",
       "      <th>1</th>\n",
       "      <td>False</td>\n",
       "      <td>33</td>\n",
       "      <td>41</td>\n",
       "    </tr>\n",
       "    <tr>\n",
       "      <th>2</th>\n",
       "      <td>True</td>\n",
       "      <td>28</td>\n",
       "      <td>24</td>\n",
       "    </tr>\n",
       "    <tr>\n",
       "      <th>3</th>\n",
       "      <td>True</td>\n",
       "      <td>23</td>\n",
       "      <td>30</td>\n",
       "    </tr>\n",
       "    <tr>\n",
       "      <th>4</th>\n",
       "      <td>False</td>\n",
       "      <td>25</td>\n",
       "      <td>40</td>\n",
       "    </tr>\n",
       "    <tr>\n",
       "      <th>...</th>\n",
       "      <td>...</td>\n",
       "      <td>...</td>\n",
       "      <td>...</td>\n",
       "    </tr>\n",
       "    <tr>\n",
       "      <th>1169</th>\n",
       "      <td>False</td>\n",
       "      <td>27</td>\n",
       "      <td>30</td>\n",
       "    </tr>\n",
       "    <tr>\n",
       "      <th>1170</th>\n",
       "      <td>False</td>\n",
       "      <td>24</td>\n",
       "      <td>31</td>\n",
       "    </tr>\n",
       "    <tr>\n",
       "      <th>1171</th>\n",
       "      <td>True</td>\n",
       "      <td>30</td>\n",
       "      <td>34</td>\n",
       "    </tr>\n",
       "    <tr>\n",
       "      <th>1172</th>\n",
       "      <td>False</td>\n",
       "      <td>21</td>\n",
       "      <td>23</td>\n",
       "    </tr>\n",
       "    <tr>\n",
       "      <th>1173</th>\n",
       "      <td>False</td>\n",
       "      <td>38</td>\n",
       "      <td>42</td>\n",
       "    </tr>\n",
       "  </tbody>\n",
       "</table>\n",
       "<p>1174 rows × 3 columns</p>\n",
       "</div>"
      ],
      "text/plain": [
       "      Maternal Smoker  Maternal Age  shuffled_age\n",
       "0               False            27            27\n",
       "1               False            33            41\n",
       "2                True            28            24\n",
       "3                True            23            30\n",
       "4               False            25            40\n",
       "...               ...           ...           ...\n",
       "1169            False            27            30\n",
       "1170            False            24            31\n",
       "1171             True            30            34\n",
       "1172            False            21            23\n",
       "1173            False            38            42\n",
       "\n",
       "[1174 rows x 3 columns]"
      ]
     },
     "execution_count": 120,
     "metadata": {},
     "output_type": "execute_result"
    }
   ],
   "source": [
    "original_and_shuffled= Age_and_smoking.assign(shuffled_age=shuffled_age.values )\n",
    "original_and_shuffled"
   ]
  },
  {
   "cell_type": "code",
   "execution_count": 121,
   "id": "ba46a73a-3fc5-42ac-99ca-473f18dd5b67",
   "metadata": {},
   "outputs": [
    {
     "data": {
      "text/html": [
       "<div>\n",
       "<style scoped>\n",
       "    .dataframe tbody tr th:only-of-type {\n",
       "        vertical-align: middle;\n",
       "    }\n",
       "\n",
       "    .dataframe tbody tr th {\n",
       "        vertical-align: top;\n",
       "    }\n",
       "\n",
       "    .dataframe thead th {\n",
       "        text-align: right;\n",
       "    }\n",
       "</style>\n",
       "<table border=\"1\" class=\"dataframe\">\n",
       "  <thead>\n",
       "    <tr style=\"text-align: right;\">\n",
       "      <th></th>\n",
       "      <th>Maternal Age</th>\n",
       "      <th>shuffled_age</th>\n",
       "    </tr>\n",
       "    <tr>\n",
       "      <th>Maternal Smoker</th>\n",
       "      <th></th>\n",
       "      <th></th>\n",
       "    </tr>\n",
       "  </thead>\n",
       "  <tbody>\n",
       "    <tr>\n",
       "      <th>False</th>\n",
       "      <td>27.544056</td>\n",
       "      <td>27.005594</td>\n",
       "    </tr>\n",
       "    <tr>\n",
       "      <th>True</th>\n",
       "      <td>26.736383</td>\n",
       "      <td>27.575163</td>\n",
       "    </tr>\n",
       "  </tbody>\n",
       "</table>\n",
       "</div>"
      ],
      "text/plain": [
       "                 Maternal Age  shuffled_age\n",
       "Maternal Smoker                            \n",
       "False               27.544056     27.005594\n",
       "True                26.736383     27.575163"
      ]
     },
     "execution_count": 121,
     "metadata": {},
     "output_type": "execute_result"
    }
   ],
   "source": [
    "shuffled_means_table = original_and_shuffled.groupby('Maternal Smoker').mean()\n",
    "shuffled_means_table"
   ]
  },
  {
   "cell_type": "code",
   "execution_count": 122,
   "id": "5344b286-d348-436e-96b0-16ea815aa68d",
   "metadata": {},
   "outputs": [
    {
     "data": {
      "text/plain": [
       "0.5695689930984074"
      ]
     },
     "execution_count": 122,
     "metadata": {},
     "output_type": "execute_result"
    }
   ],
   "source": [
    "shuffled_difference = shuffled_means_table['shuffled_age'][1] - shuffled_means_table['shuffled_age'][0]\n",
    "shuffled_difference"
   ]
  },
  {
   "cell_type": "markdown",
   "id": "211c61b4-64dd-400a-87fc-7f5b16cc6b4b",
   "metadata": {},
   "source": [
    "## Question 6"
   ]
  },
  {
   "cell_type": "code",
   "execution_count": 123,
   "id": "8c678d71-2260-4df0-8ded-677556447e8d",
   "metadata": {},
   "outputs": [],
   "source": [
    "differences = np.zeros(5000)"
   ]
  },
  {
   "cell_type": "code",
   "execution_count": 124,
   "id": "c584ffa4-f865-45f5-9200-40045d6273d5",
   "metadata": {},
   "outputs": [],
   "source": [
    "for i in np.arange(5000):\n",
    "    Age_and_smoking = baby[['Maternal Smoker', 'Maternal Age']]\n",
    "    shuffled = Age_and_smoking.sample(1174,replace = False)\n",
    "    shuffled_age = shuffled['Maternal Age']\n",
    "    original_and_shuffled = Age_and_smoking.assign(shuffled_age=shuffled_age.values )\n",
    "    shuffled_means_table= original_and_shuffled.groupby('Maternal Smoker').mean()\n",
    "    difference = shuffled_means_table['shuffled_age'][0]- shuffled_means_table['shuffled_age'][1]\n",
    "    differences[i] = difference"
   ]
  },
  {
   "cell_type": "code",
   "execution_count": 125,
   "id": "269fe6c4-7f37-4363-a7be-62a219bf6338",
   "metadata": {},
   "outputs": [
    {
     "data": {
      "text/plain": [
       "array([ 0.21027165, -0.16176242, -0.44794247, ...,  0.2210034 ,\n",
       "        0.51433795,  0.01352286])"
      ]
     },
     "execution_count": 125,
     "metadata": {},
     "output_type": "execute_result"
    }
   ],
   "source": [
    "differences"
   ]
  },
  {
   "cell_type": "code",
   "execution_count": 126,
   "id": "24d1e96e-f156-417b-8a12-28b0bbfa610c",
   "metadata": {},
   "outputs": [
    {
     "data": {
      "text/html": [
       "<div>\n",
       "<style scoped>\n",
       "    .dataframe tbody tr th:only-of-type {\n",
       "        vertical-align: middle;\n",
       "    }\n",
       "\n",
       "    .dataframe tbody tr th {\n",
       "        vertical-align: top;\n",
       "    }\n",
       "\n",
       "    .dataframe thead th {\n",
       "        text-align: right;\n",
       "    }\n",
       "</style>\n",
       "<table border=\"1\" class=\"dataframe\">\n",
       "  <thead>\n",
       "    <tr style=\"text-align: right;\">\n",
       "      <th></th>\n",
       "      <th>0</th>\n",
       "    </tr>\n",
       "  </thead>\n",
       "  <tbody>\n",
       "    <tr>\n",
       "      <th>0</th>\n",
       "      <td>0.210272</td>\n",
       "    </tr>\n",
       "    <tr>\n",
       "      <th>1</th>\n",
       "      <td>-0.161762</td>\n",
       "    </tr>\n",
       "    <tr>\n",
       "      <th>2</th>\n",
       "      <td>-0.447942</td>\n",
       "    </tr>\n",
       "    <tr>\n",
       "      <th>3</th>\n",
       "      <td>0.120840</td>\n",
       "    </tr>\n",
       "    <tr>\n",
       "      <th>4</th>\n",
       "      <td>-0.340625</td>\n",
       "    </tr>\n",
       "    <tr>\n",
       "      <th>...</th>\n",
       "      <td>...</td>\n",
       "    </tr>\n",
       "    <tr>\n",
       "      <th>4995</th>\n",
       "      <td>-0.075908</td>\n",
       "    </tr>\n",
       "    <tr>\n",
       "      <th>4996</th>\n",
       "      <td>0.034986</td>\n",
       "    </tr>\n",
       "    <tr>\n",
       "      <th>4997</th>\n",
       "      <td>0.221003</td>\n",
       "    </tr>\n",
       "    <tr>\n",
       "      <th>4998</th>\n",
       "      <td>0.514338</td>\n",
       "    </tr>\n",
       "    <tr>\n",
       "      <th>4999</th>\n",
       "      <td>0.013523</td>\n",
       "    </tr>\n",
       "  </tbody>\n",
       "</table>\n",
       "<p>5000 rows × 1 columns</p>\n",
       "</div>"
      ],
      "text/plain": [
       "             0\n",
       "0     0.210272\n",
       "1    -0.161762\n",
       "2    -0.447942\n",
       "3     0.120840\n",
       "4    -0.340625\n",
       "...        ...\n",
       "4995 -0.075908\n",
       "4996  0.034986\n",
       "4997  0.221003\n",
       "4998  0.514338\n",
       "4999  0.013523\n",
       "\n",
       "[5000 rows x 1 columns]"
      ]
     },
     "execution_count": 126,
     "metadata": {},
     "output_type": "execute_result"
    }
   ],
   "source": [
    "diff_df = pd.DataFrame(differences)\n",
    "diff_df"
   ]
  },
  {
   "cell_type": "markdown",
   "id": "78291269-c07a-40af-bff7-33227ccd51f3",
   "metadata": {},
   "source": [
    "## Question 7"
   ]
  },
  {
   "cell_type": "code",
   "execution_count": 127,
   "id": "79d97a1a-c9b5-4535-a8db-35ec0f1b1cec",
   "metadata": {},
   "outputs": [
    {
     "name": "stdout",
     "output_type": "stream",
     "text": [
      "Observed Difference: -0.8076725017901509\n"
     ]
    },
    {
     "data": {
      "image/png": "[encoded data removed]",
      "text/plain": [
       "<Figure size 432x288 with 1 Axes>"
      ]
     },
     "metadata": {},
     "output_type": "display_data"
    }
   ],
   "source": [
    "diff_df.hist(bins = 10)\n",
    "plt.scatter(observed_difference, 0, color='red', s=30)\n",
    "print('Observed Difference:', observed_difference)"
   ]
  },
  {
   "cell_type": "markdown",
   "id": "a313248d-0e26-4651-a7a5-50d10b2158ca",
   "metadata": {},
   "source": [
    "## Question 8"
   ]
  },
  {
   "cell_type": "code",
   "execution_count": 128,
   "id": "6a8b7733-880c-4045-84ab-1500a134349c",
   "metadata": {},
   "outputs": [
    {
     "data": {
      "text/plain": [
       "0.0102"
      ]
     },
     "execution_count": 128,
     "metadata": {},
     "output_type": "execute_result"
    }
   ],
   "source": [
    "p = np.count_nonzero(differences <= observed_difference)/differences.size\n",
    "p"
   ]
  },
  {
   "cell_type": "code",
   "execution_count": 130,
   "id": "e416c901-759f-45a8-9814-298da02576c9",
   "metadata": {},
   "outputs": [
    {
     "name": "stdout",
     "output_type": "stream",
     "text": [
      "Ob Diff -0.8076725017901509\n",
      "P-value: 1.0 %\n"
     ]
    }
   ],
   "source": [
    "print('Ob Diff', observed_difference)\n",
    "print('P-value:', round(p, 2) *100, '%')"
   ]
  },
  {
   "cell_type": "markdown",
   "id": "8868276d-cc4a-4e61-a412-e181188b4e4d",
   "metadata": {},
   "source": [
    "## Question 9"
   ]
  },
  {
   "cell_type": "markdown",
   "id": "7ff4060f-47c8-4187-a985-6c204a3f501b",
   "metadata": {},
   "source": [
    "- Since the observed p value is so small = 0.0106 (given alpha value = **0.05**) and the observed difference in the histogram under null hypothesis is in the tail. \n",
    "- the test favour alternative hypothesis more than null \n",
    "- i.e the average age of smokers is less than average age of non smokers "
   ]
  }
 ],
 "metadata": {
  "kernelspec": {
   "display_name": "Python 3 (ipykernel)",
   "language": "python",
   "name": "python3"
  },
  "language_info": {
   "codemirror_mode": {
    "name": "ipython",
    "version": 3
   },
   "file_extension": ".py",
   "mimetype": "text/x-python",
   "name": "python",
   "nbconvert_exporter": "python",
   "pygments_lexer": "ipython3",
   "version": "3.9.12"
  }
 },
 "nbformat": 4,
 "nbformat_minor": 5
}
