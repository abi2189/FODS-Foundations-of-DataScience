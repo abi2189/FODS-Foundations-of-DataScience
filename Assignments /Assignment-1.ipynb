{
 "cells": [
  {
   "cell_type": "markdown",
   "id": "5e46dde5-735d-4917-8107-7adc8c69afb2",
   "metadata": {
    "tags": []
   },
   "source": [
    "# Question 1\n"
   ]
  },
  {
   "cell_type": "code",
   "execution_count": 46,
   "id": "916d21da-4e4e-419e-8350-84b35eff6633",
   "metadata": {},
   "outputs": [
    {
     "name": "stdout",
     "output_type": "stream",
     "text": [
      "(400.4, 777, 'aman', '222')\n",
      "<class 'tuple'>\n"
     ]
    }
   ],
   "source": [
    "s = set([\"aman\", \"222\", 777, 400.4])\n",
    "tup = tuple(s)\n",
    "print(tup)\n",
    "print(type(tup))"
   ]
  },
  {
   "cell_type": "markdown",
   "id": "9a695b55-a91d-4741-a5b0-139170ed79b5",
   "metadata": {
    "jp-MarkdownHeadingCollapsed": true,
    "tags": []
   },
   "source": [
    "# Question 2\n"
   ]
  },
  {
   "cell_type": "code",
   "execution_count": 47,
   "id": "8700b040-bf2c-4ebf-94c8-2fefaa1ecd07",
   "metadata": {},
   "outputs": [
    {
     "name": "stdout",
     "output_type": "stream",
     "text": [
      "{'roll': 20208, 'name': 'Aravind', 'dob': '08-05-02'}\n"
     ]
    }
   ],
   "source": [
    "dict = {'roll' : 20208,\n",
    "        'name' : 'Aravind',\n",
    "        'dob' : '08-05-02'}\n",
    "print(dict)"
   ]
  },
  {
   "cell_type": "markdown",
   "id": "737c15d3-b907-47fa-86b7-1459a8069083",
   "metadata": {
    "tags": []
   },
   "source": [
    "# Question 3\n"
   ]
  },
  {
   "cell_type": "code",
   "execution_count": 48,
   "id": "0624f0ea-8fc0-421a-9ac2-6d623191cbc2",
   "metadata": {},
   "outputs": [
    {
     "data": {
      "text/plain": [
       "array([[5, 3, 0, 4],\n",
       "       [2, 4, 4, 7]])"
      ]
     },
     "execution_count": 48,
     "metadata": {},
     "output_type": "execute_result"
    }
   ],
   "source": [
    "arr2 = np.random.randint(9,size=(2,4))\n",
    "arr2"
   ]
  },
  {
   "cell_type": "markdown",
   "id": "f51e806e-1b75-4f54-ab79-d6d58a241488",
   "metadata": {
    "tags": []
   },
   "source": [
    "# Question 4\n"
   ]
  },
  {
   "cell_type": "code",
   "execution_count": 49,
   "id": "2e4c54ed-a7f2-405e-b5bd-c6d48e378400",
   "metadata": {},
   "outputs": [
    {
     "name": "stdout",
     "output_type": "stream",
     "text": [
      "8\n",
      "1234\n"
     ]
    }
   ],
   "source": [
    "import random\n",
    "num = random.randint(1,10)\n",
    "print(num)\n",
    "print(abs(-1234))"
   ]
  },
  {
   "cell_type": "markdown",
   "id": "ea76c0bf-7656-4d6d-a12a-35d5d82da41b",
   "metadata": {
    "tags": []
   },
   "source": [
    "# Question 5\n"
   ]
  },
  {
   "cell_type": "code",
   "execution_count": null,
   "id": "3fac626d-a0b8-4876-9bf5-94be63597ca4",
   "metadata": {},
   "outputs": [],
   "source": [
    "num = random.randint(20,90)\n",
    "print(num)"
   ]
  },
  {
   "cell_type": "markdown",
   "id": "87c79503-4b0e-4172-a964-9f52794c6626",
   "metadata": {
    "tags": []
   },
   "source": [
    "# Question 6\n"
   ]
  },
  {
   "cell_type": "code",
   "execution_count": 40,
   "id": "5c635751-ad6f-409a-8361-668d4f7f8ba5",
   "metadata": {},
   "outputs": [
    {
     "name": "stdout",
     "output_type": "stream",
     "text": [
      "[14, 12, 15]\n"
     ]
    }
   ],
   "source": [
    "import random\n",
    "list1=[11, 12, 13,14, 15]\n",
    "\n",
    "newlist1=random.sample(list1,3)\n",
    "print(newlist1)"
   ]
  },
  {
   "cell_type": "code",
   "execution_count": 60,
   "id": "f630ee43-c1b3-4f37-a939-c358c633415f",
   "metadata": {},
   "outputs": [],
   "source": [
    "\n",
    "nparray=np.array(list1)\n",
    "np.random.shuffle(nparray)"
   ]
  },
  {
   "cell_type": "code",
   "execution_count": 42,
   "id": "7d114490-ea62-40f5-a791-a2ef3c9df442",
   "metadata": {},
   "outputs": [
    {
     "name": "stdout",
     "output_type": "stream",
     "text": [
      "[13 12 14 11 15]\n"
     ]
    }
   ],
   "source": [
    "print(nparray)"
   ]
  },
  {
   "cell_type": "code",
   "execution_count": 43,
   "id": "9e530cd8-0647-4289-ae03-757ae9a68837",
   "metadata": {},
   "outputs": [],
   "source": [
    "newlist1=random.sample(list1,1)"
   ]
  },
  {
   "cell_type": "code",
   "execution_count": 44,
   "id": "cd00cfd3-3496-44a3-9a54-9ab1d647ac2e",
   "metadata": {},
   "outputs": [
    {
     "name": "stdout",
     "output_type": "stream",
     "text": [
      "[13]\n"
     ]
    }
   ],
   "source": [
    "print(newlist1)"
   ]
  },
  {
   "cell_type": "markdown",
   "id": "7dac89a3-a6ce-4edc-b4ec-183cc08f283b",
   "metadata": {
    "jp-MarkdownHeadingCollapsed": true,
    "tags": []
   },
   "source": [
    "# Question 7\n"
   ]
  },
  {
   "cell_type": "markdown",
   "id": "bfde5e8b-4347-481a-8942-8236bee04a56",
   "metadata": {
    "jp-MarkdownHeadingCollapsed": true,
    "tags": []
   },
   "source": [
    "# Question 8\n"
   ]
  },
  {
   "cell_type": "code",
   "execution_count": null,
   "id": "2d3c49b0-0f11-4518-a24e-603e642c66dc",
   "metadata": {},
   "outputs": [
    {
     "name": "stdout",
     "output_type": "stream",
     "text": [
      "enter choice\n"
     ]
    },
    {
     "name": "stdin",
     "output_type": "stream",
     "text": [
      " 1\n"
     ]
    },
    {
     "name": "stdout",
     "output_type": "stream",
     "text": [
      "one\n",
      "enter range :\n"
     ]
    },
    {
     "name": "stdin",
     "output_type": "stream",
     "text": [
      " 2\n"
     ]
    },
    {
     "name": "stdout",
     "output_type": "stream",
     "text": [
      "0\n",
      "1\n"
     ]
    }
   ],
   "source": [
    "def ch(n):\n",
    "    if n == 1:\n",
    "        print('one')\n",
    "    elif n == 2:\n",
    "        print('two')\n",
    "    else:\n",
    "        print('not 1 or 2')\n",
    "\n",
    "def ran(n):\n",
    "    for i in range(n):\n",
    "        print(i)\n",
    "        \n",
    "print('enter choice')\n",
    "ch(int(input()))\n",
    "\n",
    "print('enter range :')\n",
    "ran(int(input()))"
   ]
  },
  {
   "cell_type": "markdown",
   "id": "dab489cb-2b72-400d-b04f-b99150dc3134",
   "metadata": {
    "tags": []
   },
   "source": [
    "# Question 9\n"
   ]
  },
  {
   "cell_type": "code",
   "execution_count": 51,
   "id": "e5efe844-070c-42a3-b8c5-a60dde383ec9",
   "metadata": {},
   "outputs": [
    {
     "name": "stdout",
     "output_type": "stream",
     "text": [
      "The King is Dead, Long Live The King\n",
      "T\n",
      "e K\n",
      "e King is Dead, Long Live The King\n",
      "['The', 'King', 'is', 'Dead,', 'Long', 'Live', 'The', 'King']\n"
     ]
    }
   ],
   "source": [
    "str = \"The King is Dead, Long Live The King\"\n",
    "print(str)\n",
    "print(str[0])\n",
    "print(str[2:5])\n",
    "print(str[2:])\n",
    "print(str.split(' '))"
   ]
  },
  {
   "cell_type": "markdown",
   "id": "d0906381-35d6-42ec-a18d-9b6d3fec04c1",
   "metadata": {
    "tags": []
   },
   "source": [
    "# Question 10\n"
   ]
  },
  {
   "cell_type": "code",
   "execution_count": 52,
   "id": "1bfee1bf-1257-4711-a3e4-27fdb9fcfd7f",
   "metadata": {},
   "outputs": [
    {
     "name": "stdout",
     "output_type": "stream",
     "text": [
      "[1, 4]\n"
     ]
    }
   ],
   "source": [
    "arr = list([1,4,5,8])\n",
    "print(arr[0:2])"
   ]
  },
  {
   "cell_type": "markdown",
   "id": "0c3a935f-2a01-493a-a255-d164b3701cd2",
   "metadata": {
    "jp-MarkdownHeadingCollapsed": true,
    "tags": []
   },
   "source": [
    "# Question 11"
   ]
  },
  {
   "cell_type": "code",
   "execution_count": 4,
   "id": "60ee519b-fdf6-46cb-a9e7-c1c1680f739b",
   "metadata": {},
   "outputs": [],
   "source": [
    "import numpy as np"
   ]
  },
  {
   "cell_type": "code",
   "execution_count": 8,
   "id": "5b6a22ac-cefe-436e-a15c-ad36234120bb",
   "metadata": {},
   "outputs": [],
   "source": [
    "arr1 = np.array([[1, 2, 3], [4, 5, 6]])"
   ]
  },
  {
   "cell_type": "code",
   "execution_count": 10,
   "id": "0ddccd2a-ae9c-44a1-8387-cd1be36ebe90",
   "metadata": {},
   "outputs": [
    {
     "name": "stdout",
     "output_type": "stream",
     "text": [
      "[[1 2 3]\n",
      " [4 5 6]]\n"
     ]
    }
   ],
   "source": [
    "print(arr1)"
   ]
  },
  {
   "cell_type": "markdown",
   "id": "c87d5c76-ceb0-409d-a0cc-cbe58fdde4d7",
   "metadata": {
    "jp-MarkdownHeadingCollapsed": true,
    "tags": []
   },
   "source": [
    "# Question 12\n"
   ]
  },
  {
   "cell_type": "code",
   "execution_count": 11,
   "id": "1faf839f-e2b5-46a5-83a2-9cfc0ab32755",
   "metadata": {},
   "outputs": [
    {
     "name": "stdout",
     "output_type": "stream",
     "text": [
      "[4 5 6]\n"
     ]
    }
   ],
   "source": [
    "print(arr1[1])"
   ]
  },
  {
   "cell_type": "code",
   "execution_count": 26,
   "id": "d7cc6d31-9f8b-4f0f-95ba-e12582d86f5d",
   "metadata": {},
   "outputs": [
    {
     "name": "stdout",
     "output_type": "stream",
     "text": [
      "[2 5]\n"
     ]
    }
   ],
   "source": [
    "a1rr = arr1.astype('float64')\n",
    "print(arr1[0:2,1])\n"
   ]
  },
  {
   "cell_type": "code",
   "execution_count": 16,
   "id": "1920dbe3-1f58-424a-9db1-d8d65074f490",
   "metadata": {},
   "outputs": [
    {
     "name": "stdout",
     "output_type": "stream",
     "text": [
      "6\n"
     ]
    }
   ],
   "source": [
    "print(arr1.size)"
   ]
  },
  {
   "cell_type": "code",
   "execution_count": 17,
   "id": "f3a4f18c-d5dc-4356-95ed-523dd63f1af9",
   "metadata": {},
   "outputs": [
    {
     "name": "stdout",
     "output_type": "stream",
     "text": [
      "(2, 3)\n"
     ]
    }
   ],
   "source": [
    "print(arr1.shape)"
   ]
  },
  {
   "cell_type": "markdown",
   "id": "00dcb2c6-1dae-4ddc-b68c-e4494dca59c6",
   "metadata": {},
   "source": [
    "# Question 13"
   ]
  },
  {
   "cell_type": "code",
   "execution_count": 36,
   "id": "46211e2e-2319-44b8-9724-16bb295a5582",
   "metadata": {},
   "outputs": [
    {
     "name": "stdout",
     "output_type": "stream",
     "text": [
      "[[ 1  2  3  4  5]\n",
      " [ 6  7  8  9 10]]\n",
      "[[ 1  2]\n",
      " [ 3  4]\n",
      " [ 5  6]\n",
      " [ 7  8]\n",
      " [ 9 10]]\n",
      "Transpose\n",
      "[[ 1  6]\n",
      " [ 2  7]\n",
      " [ 3  8]\n",
      " [ 4  9]\n",
      " [ 5 10]]\n",
      "[[ 1  3  5  7  9]\n",
      " [ 2  4  6  8 10]]\n"
     ]
    }
   ],
   "source": [
    "arr=[1,2,3,4,5,6,7,8,9,10]\n",
    "arr2=np.array(arr)\n",
    "newarr = arr2.reshape(2, 5)\n",
    "print(newarr)\n",
    "newarr1 = arr2.reshape(5, 2)\n",
    "print(newarr1)\n",
    "print(\"Transpose\")\n",
    "print(newarr.transpose())\n",
    "print(newarr1.transpose())"
   ]
  },
  {
   "cell_type": "markdown",
   "id": "81a42070-d3ae-4c3a-9731-f6051981353a",
   "metadata": {
    "tags": []
   },
   "source": [
    "# Question 14"
   ]
  },
  {
   "cell_type": "code",
   "execution_count": 19,
   "id": "98b18cf4-0f85-4a7c-9fc5-a5db8bef0a4b",
   "metadata": {},
   "outputs": [],
   "source": [
    "list1 = [1,2,3]"
   ]
  },
  {
   "cell_type": "code",
   "execution_count": 22,
   "id": "cbee46ce-1564-44eb-b704-f6e64a253988",
   "metadata": {},
   "outputs": [],
   "source": [
    "nparray=np.array(list1)"
   ]
  },
  {
   "cell_type": "code",
   "execution_count": 24,
   "id": "49696314-5f9e-485f-a07f-b49693d27da1",
   "metadata": {},
   "outputs": [
    {
     "name": "stdout",
     "output_type": "stream",
     "text": [
      "[1 2 3]\n",
      "<class 'numpy.ndarray'>\n"
     ]
    }
   ],
   "source": [
    "print(nparray)\n",
    "print(type(nparray))"
   ]
  },
  {
   "cell_type": "markdown",
   "id": "0e8bc822-6215-49c3-9660-8f9ccc6c678b",
   "metadata": {
    "jp-MarkdownHeadingCollapsed": true,
    "tags": []
   },
   "source": [
    "# Question 15"
   ]
  },
  {
   "cell_type": "code",
   "execution_count": null,
   "id": "e244a4f6-f1a9-4c9b-8029-9ed412b0ef93",
   "metadata": {},
   "outputs": [],
   "source": []
  },
  {
   "cell_type": "code",
   "execution_count": 25,
   "id": "aa3073c8-cbc3-4e18-a369-c2a7aa1fa351",
   "metadata": {},
   "outputs": [
    {
     "name": "stdout",
     "output_type": "stream",
     "text": [
      "[9 9 9]\n",
      "<class 'numpy.ndarray'>\n"
     ]
    }
   ],
   "source": [
    "nparray[0]=9\n",
    "nparray[1]=9\n",
    "nparray[2]=9\n",
    "print(nparray)\n",
    "print(type(nparray))"
   ]
  },
  {
   "cell_type": "markdown",
   "id": "aa86d3a8-2f25-496b-8875-0662915007bf",
   "metadata": {
    "tags": []
   },
   "source": [
    "# Question 16"
   ]
  },
  {
   "cell_type": "code",
   "execution_count": 59,
   "id": "b4f2b148-fe8f-4fc9-b36e-988632561b73",
   "metadata": {},
   "outputs": [
    {
     "name": "stdout",
     "output_type": "stream",
     "text": [
      "11\n"
     ]
    }
   ],
   "source": [
    "arr = [2,4,5]\n",
    "print(sum(arr))"
   ]
  },
  {
   "cell_type": "markdown",
   "id": "e7091f9a-836d-4e69-af6c-266bdbcda0e1",
   "metadata": {
    "tags": []
   },
   "source": [
    "# Question 17"
   ]
  },
  {
   "cell_type": "code",
   "execution_count": 58,
   "id": "b93894c1-b2bf-44c3-b193-91bead56fc76",
   "metadata": {},
   "outputs": [
    {
     "name": "stdout",
     "output_type": "stream",
     "text": [
      "427350\n"
     ]
    }
   ],
   "source": [
    "arr = [77,74,75]\n",
    "prod = 1\n",
    "for i in arr:\n",
    "    prod*=i\n",
    "print(prod)"
   ]
  },
  {
   "cell_type": "markdown",
   "id": "0b0a5852-2616-4907-823c-40a7722dddd4",
   "metadata": {
    "tags": []
   },
   "source": [
    "# Question 18"
   ]
  },
  {
   "cell_type": "code",
   "execution_count": 57,
   "id": "b650ee80-b2a5-481c-a580-4310be420723",
   "metadata": {},
   "outputs": [
    {
     "name": "stdout",
     "output_type": "stream",
     "text": [
      "Mean :  12.461538461538462\n",
      "var :  367.32544378698225\n",
      "max :  56\n",
      "min ;  1\n",
      "argmin :  1\n",
      "median :  2.0\n",
      "argmax :  12\n",
      "sd :  19.165736192147232\n"
     ]
    }
   ],
   "source": [
    "arr = np.array([2,1,9,1,2,22,1,1,4,55,6,2,56])\n",
    "# mean, variance, max, min, argmin, median, argmax and standard deviation\n",
    "print('Mean : ', arr.mean())\n",
    "print('var : ', arr.var())\n",
    "print('max : ', arr.max())\n",
    "print('min ; ', arr.min())\n",
    "print('argmin : ', arr.argmin())\n",
    "print('median : ', np.median(arr))\n",
    "print('argmax : ', arr.argmax())\n",
    "print('sd : ', np.std(arr))"
   ]
  },
  {
   "cell_type": "markdown",
   "id": "72656031-9787-4cb1-b2b9-0568ad7e4926",
   "metadata": {
    "tags": []
   },
   "source": [
    "# Question 19"
   ]
  },
  {
   "cell_type": "code",
   "execution_count": 56,
   "id": "35644def-1775-47a1-8a55-772fd4505a9e",
   "metadata": {},
   "outputs": [
    {
     "name": "stdout",
     "output_type": "stream",
     "text": [
      "[1, 4, 5, 7]\n"
     ]
    }
   ],
   "source": [
    "li = [1, 1, 4, 5, 5, 5, 7]\n",
    "uniq = list(set(li))\n",
    "uniq.sort()\n",
    "print(uniq)"
   ]
  },
  {
   "cell_type": "markdown",
   "id": "7c9c9f43-c11f-46b6-b543-16cd3ed43b40",
   "metadata": {
    "tags": []
   },
   "source": [
    "# Question 20"
   ]
  },
  {
   "cell_type": "code",
   "execution_count": 55,
   "id": "c6895e9d-f91c-4d0c-b72f-71ed1e1b5fe0",
   "metadata": {},
   "outputs": [
    {
     "name": "stdout",
     "output_type": "stream",
     "text": [
      "5\n"
     ]
    }
   ],
   "source": [
    "li1 = [1, 2, 3]\n",
    "li2 = [0, 1, 1]\n",
    "\n",
    "prod = 0\n",
    "\n",
    "for i in range(len(li1)):\n",
    "    temp = li1[i]*li2[i]\n",
    "    prod+=temp\n",
    "    \n",
    "print(prod)"
   ]
  },
  {
   "cell_type": "markdown",
   "id": "cd608177-c707-443e-9b99-32698c35c907",
   "metadata": {
    "tags": []
   },
   "source": [
    "# Question 21"
   ]
  },
  {
   "cell_type": "code",
   "execution_count": 54,
   "id": "385d4c1e-3be9-4ffd-97bf-409d556e0267",
   "metadata": {},
   "outputs": [
    {
     "name": "stdout",
     "output_type": "stream",
     "text": [
      "eigen values :  [-2.+1.73205081j -2.-1.73205081j]\n",
      "eigen vectors :  [[0.96076892+0.j         0.96076892-0.j        ]\n",
      " [0.24019223-0.13867505j 0.24019223+0.13867505j]]\n"
     ]
    }
   ],
   "source": [
    "matA = [[1, -12], [1, -5]]\n",
    "\n",
    "eigenVal, eigenVect = np.linalg.eig(matA)\n",
    "\n",
    "print('eigen values : ', eigenVal)\n",
    "print('eigen vectors : ', eigenVect)"
   ]
  },
  {
   "cell_type": "markdown",
   "id": "e68ccc80-e717-4b11-87a9-02ef4c0912af",
   "metadata": {
    "tags": []
   },
   "source": [
    "# Question 22"
   ]
  },
  {
   "cell_type": "code",
   "execution_count": 53,
   "id": "42bb7f93-3a1b-43bd-b356-6c3bde0f34ba",
   "metadata": {},
   "outputs": [
    {
     "name": "stdout",
     "output_type": "stream",
     "text": [
      "[[1.         0.15997968]\n",
      " [0.15997968 1.        ]]\n"
     ]
    }
   ],
   "source": [
    "li1 = np.array([11, 22, 11, 31])\n",
    "li2 = np.array([25, 33, 31, 28])\n",
    "\n",
    "ret = np.corrcoef(li1,li2)\n",
    "print(ret)"
   ]
  }
 ],
 "metadata": {
  "kernelspec": {
   "display_name": "Python 3 (ipykernel)",
   "language": "python",
   "name": "python3"
  },
  "language_info": {
   "codemirror_mode": {
    "name": "ipython",
    "version": 3
   },
   "file_extension": ".py",
   "mimetype": "text/x-python",
   "name": "python",
   "nbconvert_exporter": "python",
   "pygments_lexer": "ipython3",
   "version": "3.9.12"
  }
 },
 "nbformat": 4,
 "nbformat_minor": 5
}
