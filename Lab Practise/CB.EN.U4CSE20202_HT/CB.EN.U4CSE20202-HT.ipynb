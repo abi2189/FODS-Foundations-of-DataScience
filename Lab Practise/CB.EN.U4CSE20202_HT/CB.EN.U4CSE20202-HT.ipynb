{
 "cells": [
  {
   "cell_type": "code",
   "execution_count": 2,
   "metadata": {
    "id": "4-dri08wotbC"
   },
   "outputs": [],
   "source": [
    "import pandas as pd\n",
    "import numpy as np\n",
    "import matplotlib.pyplot as plt\n",
    "import numpy as np\n",
    "import scipy.stats as st"
   ]
  },
  {
   "cell_type": "code",
   "execution_count": 3,
   "metadata": {
    "colab": {
     "base_uri": "https://localhost:8080/",
     "height": 658
    },
    "id": "4N7DZIH9o6Yw",
    "outputId": "0738a1dd-a770-405e-e9e6-7feb856605ba"
   },
   "outputs": [
    {
     "data": {
      "text/html": [
       "<div>\n",
       "<style scoped>\n",
       "    .dataframe tbody tr th:only-of-type {\n",
       "        vertical-align: middle;\n",
       "    }\n",
       "\n",
       "    .dataframe tbody tr th {\n",
       "        vertical-align: top;\n",
       "    }\n",
       "\n",
       "    .dataframe thead th {\n",
       "        text-align: right;\n",
       "    }\n",
       "</style>\n",
       "<table border=\"1\" class=\"dataframe\">\n",
       "  <thead>\n",
       "    <tr style=\"text-align: right;\">\n",
       "      <th></th>\n",
       "      <th>Invoice ID</th>\n",
       "      <th>Branch</th>\n",
       "      <th>City</th>\n",
       "      <th>Customer type</th>\n",
       "      <th>Gender</th>\n",
       "      <th>Product line</th>\n",
       "      <th>Unit price</th>\n",
       "      <th>Quantity</th>\n",
       "      <th>Tax 5%</th>\n",
       "      <th>Total</th>\n",
       "      <th>Date</th>\n",
       "      <th>Time</th>\n",
       "      <th>Payment</th>\n",
       "      <th>cogs</th>\n",
       "      <th>gross margin percentage</th>\n",
       "      <th>gross income</th>\n",
       "      <th>Rating</th>\n",
       "    </tr>\n",
       "  </thead>\n",
       "  <tbody>\n",
       "    <tr>\n",
       "      <th>0</th>\n",
       "      <td>692-92-5582</td>\n",
       "      <td>B</td>\n",
       "      <td>Mandalay</td>\n",
       "      <td>Member</td>\n",
       "      <td>Female</td>\n",
       "      <td>Food_and_beverages</td>\n",
       "      <td>54.84</td>\n",
       "      <td>3</td>\n",
       "      <td>8.226</td>\n",
       "      <td>172.746</td>\n",
       "      <td>2/20/2019</td>\n",
       "      <td>13:27</td>\n",
       "      <td>Credit card</td>\n",
       "      <td>164.52</td>\n",
       "      <td>4.761905</td>\n",
       "      <td>8.226</td>\n",
       "      <td>5.9</td>\n",
       "    </tr>\n",
       "    <tr>\n",
       "      <th>1</th>\n",
       "      <td>351-62-0822</td>\n",
       "      <td>B</td>\n",
       "      <td>Mandalay</td>\n",
       "      <td>Member</td>\n",
       "      <td>Female</td>\n",
       "      <td>Fashion_accessories</td>\n",
       "      <td>14.48</td>\n",
       "      <td>4</td>\n",
       "      <td>2.896</td>\n",
       "      <td>60.816</td>\n",
       "      <td>6/2/2019</td>\n",
       "      <td>18:07</td>\n",
       "      <td>Ewallet</td>\n",
       "      <td>57.92</td>\n",
       "      <td>4.761905</td>\n",
       "      <td>2.896</td>\n",
       "      <td>4.5</td>\n",
       "    </tr>\n",
       "    <tr>\n",
       "      <th>2</th>\n",
       "      <td>529-56-3974</td>\n",
       "      <td>B</td>\n",
       "      <td>Mandalay</td>\n",
       "      <td>Member</td>\n",
       "      <td>Male</td>\n",
       "      <td>Electronic_accessories</td>\n",
       "      <td>25.51</td>\n",
       "      <td>4</td>\n",
       "      <td>5.102</td>\n",
       "      <td>107.142</td>\n",
       "      <td>9/3/2019</td>\n",
       "      <td>17:03</td>\n",
       "      <td>Cash</td>\n",
       "      <td>102.04</td>\n",
       "      <td>4.761905</td>\n",
       "      <td>5.102</td>\n",
       "      <td>6.8</td>\n",
       "    </tr>\n",
       "    <tr>\n",
       "      <th>3</th>\n",
       "      <td>299-46-1805</td>\n",
       "      <td>B</td>\n",
       "      <td>Mandalay</td>\n",
       "      <td>Member</td>\n",
       "      <td>Female</td>\n",
       "      <td>Sports_and_travel</td>\n",
       "      <td>93.72</td>\n",
       "      <td>6</td>\n",
       "      <td>28.116</td>\n",
       "      <td>590.436</td>\n",
       "      <td>1/15/2019</td>\n",
       "      <td>16:19</td>\n",
       "      <td>Cash</td>\n",
       "      <td>562.32</td>\n",
       "      <td>4.761905</td>\n",
       "      <td>28.116</td>\n",
       "      <td>4.5</td>\n",
       "    </tr>\n",
       "    <tr>\n",
       "      <th>4</th>\n",
       "      <td>319-50-3348</td>\n",
       "      <td>B</td>\n",
       "      <td>Mandalay</td>\n",
       "      <td>Normal</td>\n",
       "      <td>Female</td>\n",
       "      <td>Home_and_lifestyle</td>\n",
       "      <td>40.30</td>\n",
       "      <td>2</td>\n",
       "      <td>4.030</td>\n",
       "      <td>84.630</td>\n",
       "      <td>11/3/2019</td>\n",
       "      <td>15:30</td>\n",
       "      <td>Ewallet</td>\n",
       "      <td>80.60</td>\n",
       "      <td>4.761905</td>\n",
       "      <td>4.030</td>\n",
       "      <td>4.4</td>\n",
       "    </tr>\n",
       "    <tr>\n",
       "      <th>...</th>\n",
       "      <td>...</td>\n",
       "      <td>...</td>\n",
       "      <td>...</td>\n",
       "      <td>...</td>\n",
       "      <td>...</td>\n",
       "      <td>...</td>\n",
       "      <td>...</td>\n",
       "      <td>...</td>\n",
       "      <td>...</td>\n",
       "      <td>...</td>\n",
       "      <td>...</td>\n",
       "      <td>...</td>\n",
       "      <td>...</td>\n",
       "      <td>...</td>\n",
       "      <td>...</td>\n",
       "      <td>...</td>\n",
       "      <td>...</td>\n",
       "    </tr>\n",
       "    <tr>\n",
       "      <th>995</th>\n",
       "      <td>886-18-2897</td>\n",
       "      <td>A</td>\n",
       "      <td>Yangon</td>\n",
       "      <td>Normal</td>\n",
       "      <td>Female</td>\n",
       "      <td>Food_and_beverages</td>\n",
       "      <td>56.56</td>\n",
       "      <td>5</td>\n",
       "      <td>14.140</td>\n",
       "      <td>296.940</td>\n",
       "      <td>3/22/2019</td>\n",
       "      <td>19:06</td>\n",
       "      <td>Credit card</td>\n",
       "      <td>282.80</td>\n",
       "      <td>4.761905</td>\n",
       "      <td>14.140</td>\n",
       "      <td>4.5</td>\n",
       "    </tr>\n",
       "    <tr>\n",
       "      <th>996</th>\n",
       "      <td>745-74-0715</td>\n",
       "      <td>A</td>\n",
       "      <td>Yangon</td>\n",
       "      <td>Normal</td>\n",
       "      <td>Male</td>\n",
       "      <td>Electronic_accessories</td>\n",
       "      <td>58.03</td>\n",
       "      <td>2</td>\n",
       "      <td>5.803</td>\n",
       "      <td>121.863</td>\n",
       "      <td>10/3/2019</td>\n",
       "      <td>20:46</td>\n",
       "      <td>Ewallet</td>\n",
       "      <td>116.06</td>\n",
       "      <td>4.761905</td>\n",
       "      <td>5.803</td>\n",
       "      <td>8.8</td>\n",
       "    </tr>\n",
       "    <tr>\n",
       "      <th>997</th>\n",
       "      <td>727-02-1313</td>\n",
       "      <td>A</td>\n",
       "      <td>Yangon</td>\n",
       "      <td>Member</td>\n",
       "      <td>Male</td>\n",
       "      <td>Food_and_beverages</td>\n",
       "      <td>31.84</td>\n",
       "      <td>1</td>\n",
       "      <td>1.592</td>\n",
       "      <td>33.432</td>\n",
       "      <td>9/2/2019</td>\n",
       "      <td>13:22</td>\n",
       "      <td>Cash</td>\n",
       "      <td>31.84</td>\n",
       "      <td>4.761905</td>\n",
       "      <td>1.592</td>\n",
       "      <td>7.7</td>\n",
       "    </tr>\n",
       "    <tr>\n",
       "      <th>998</th>\n",
       "      <td>347-56-2442</td>\n",
       "      <td>A</td>\n",
       "      <td>Yangon</td>\n",
       "      <td>Normal</td>\n",
       "      <td>Male</td>\n",
       "      <td>Home_and_lifestyle</td>\n",
       "      <td>65.82</td>\n",
       "      <td>1</td>\n",
       "      <td>3.291</td>\n",
       "      <td>69.111</td>\n",
       "      <td>2/22/2019</td>\n",
       "      <td>15:33</td>\n",
       "      <td>Cash</td>\n",
       "      <td>65.82</td>\n",
       "      <td>4.761905</td>\n",
       "      <td>3.291</td>\n",
       "      <td>4.1</td>\n",
       "    </tr>\n",
       "    <tr>\n",
       "      <th>999</th>\n",
       "      <td>849-09-3807</td>\n",
       "      <td>A</td>\n",
       "      <td>Yangon</td>\n",
       "      <td>Member</td>\n",
       "      <td>Female</td>\n",
       "      <td>Fashion_accessories</td>\n",
       "      <td>88.34</td>\n",
       "      <td>7</td>\n",
       "      <td>30.919</td>\n",
       "      <td>649.299</td>\n",
       "      <td>2/18/2019</td>\n",
       "      <td>13:28</td>\n",
       "      <td>Cash</td>\n",
       "      <td>618.38</td>\n",
       "      <td>4.761905</td>\n",
       "      <td>30.919</td>\n",
       "      <td>6.6</td>\n",
       "    </tr>\n",
       "  </tbody>\n",
       "</table>\n",
       "<p>1000 rows × 17 columns</p>\n",
       "</div>"
      ],
      "text/plain": [
       "      Invoice ID Branch      City Customer type  Gender  \\\n",
       "0    692-92-5582      B  Mandalay        Member  Female   \n",
       "1    351-62-0822      B  Mandalay        Member  Female   \n",
       "2    529-56-3974      B  Mandalay        Member    Male   \n",
       "3    299-46-1805      B  Mandalay        Member  Female   \n",
       "4    319-50-3348      B  Mandalay        Normal  Female   \n",
       "..           ...    ...       ...           ...     ...   \n",
       "995  886-18-2897      A    Yangon        Normal  Female   \n",
       "996  745-74-0715      A    Yangon        Normal    Male   \n",
       "997  727-02-1313      A    Yangon        Member    Male   \n",
       "998  347-56-2442      A    Yangon        Normal    Male   \n",
       "999  849-09-3807      A    Yangon        Member  Female   \n",
       "\n",
       "               Product line  Unit price  Quantity  Tax 5%    Total       Date  \\\n",
       "0        Food_and_beverages       54.84         3   8.226  172.746  2/20/2019   \n",
       "1       Fashion_accessories       14.48         4   2.896   60.816   6/2/2019   \n",
       "2    Electronic_accessories       25.51         4   5.102  107.142   9/3/2019   \n",
       "3         Sports_and_travel       93.72         6  28.116  590.436  1/15/2019   \n",
       "4        Home_and_lifestyle       40.30         2   4.030   84.630  11/3/2019   \n",
       "..                      ...         ...       ...     ...      ...        ...   \n",
       "995      Food_and_beverages       56.56         5  14.140  296.940  3/22/2019   \n",
       "996  Electronic_accessories       58.03         2   5.803  121.863  10/3/2019   \n",
       "997      Food_and_beverages       31.84         1   1.592   33.432   9/2/2019   \n",
       "998      Home_and_lifestyle       65.82         1   3.291   69.111  2/22/2019   \n",
       "999     Fashion_accessories       88.34         7  30.919  649.299  2/18/2019   \n",
       "\n",
       "      Time      Payment    cogs  gross margin percentage  gross income  Rating  \n",
       "0    13:27  Credit card  164.52                 4.761905         8.226     5.9  \n",
       "1    18:07      Ewallet   57.92                 4.761905         2.896     4.5  \n",
       "2    17:03         Cash  102.04                 4.761905         5.102     6.8  \n",
       "3    16:19         Cash  562.32                 4.761905        28.116     4.5  \n",
       "4    15:30      Ewallet   80.60                 4.761905         4.030     4.4  \n",
       "..     ...          ...     ...                      ...           ...     ...  \n",
       "995  19:06  Credit card  282.80                 4.761905        14.140     4.5  \n",
       "996  20:46      Ewallet  116.06                 4.761905         5.803     8.8  \n",
       "997  13:22         Cash   31.84                 4.761905         1.592     7.7  \n",
       "998  15:33         Cash   65.82                 4.761905         3.291     4.1  \n",
       "999  13:28         Cash  618.38                 4.761905        30.919     6.6  \n",
       "\n",
       "[1000 rows x 17 columns]"
      ]
     },
     "execution_count": 3,
     "metadata": {},
     "output_type": "execute_result"
    }
   ],
   "source": [
    "sales=pd.read_csv('supermarket_sales.csv')\n",
    "sales"
   ]
  },
  {
   "cell_type": "code",
   "execution_count": 4,
   "metadata": {
    "colab": {
     "base_uri": "https://localhost:8080/"
    },
    "id": "AEOVN7SNqECK",
    "outputId": "b8f59533-d86a-40ee-ea7d-883fa1870aef"
   },
   "outputs": [
    {
     "data": {
      "text/plain": [
       "Index(['Invoice ID', 'Branch', 'City', 'Customer type', 'Gender',\n",
       "       'Product line', 'Unit price', 'Quantity', 'Tax 5%', 'Total', 'Date',\n",
       "       'Time', 'Payment', 'cogs', 'gross margin percentage', 'gross income',\n",
       "       'Rating'],\n",
       "      dtype='object')"
      ]
     },
     "execution_count": 4,
     "metadata": {},
     "output_type": "execute_result"
    }
   ],
   "source": [
    "sales.columns"
   ]
  },
  {
   "cell_type": "code",
   "execution_count": 5,
   "metadata": {
    "colab": {
     "base_uri": "https://localhost:8080/",
     "height": 424
    },
    "id": "ZzY-bWQDpuT0",
    "outputId": "5cd1b122-26f1-411a-fb69-01b008f896f0"
   },
   "outputs": [
    {
     "data": {
      "text/html": [
       "<div>\n",
       "<style scoped>\n",
       "    .dataframe tbody tr th:only-of-type {\n",
       "        vertical-align: middle;\n",
       "    }\n",
       "\n",
       "    .dataframe tbody tr th {\n",
       "        vertical-align: top;\n",
       "    }\n",
       "\n",
       "    .dataframe thead th {\n",
       "        text-align: right;\n",
       "    }\n",
       "</style>\n",
       "<table border=\"1\" class=\"dataframe\">\n",
       "  <thead>\n",
       "    <tr style=\"text-align: right;\">\n",
       "      <th></th>\n",
       "      <th>Gender</th>\n",
       "      <th>Total</th>\n",
       "    </tr>\n",
       "  </thead>\n",
       "  <tbody>\n",
       "    <tr>\n",
       "      <th>0</th>\n",
       "      <td>Female</td>\n",
       "      <td>172.746</td>\n",
       "    </tr>\n",
       "    <tr>\n",
       "      <th>1</th>\n",
       "      <td>Female</td>\n",
       "      <td>60.816</td>\n",
       "    </tr>\n",
       "    <tr>\n",
       "      <th>2</th>\n",
       "      <td>Male</td>\n",
       "      <td>107.142</td>\n",
       "    </tr>\n",
       "    <tr>\n",
       "      <th>3</th>\n",
       "      <td>Female</td>\n",
       "      <td>590.436</td>\n",
       "    </tr>\n",
       "    <tr>\n",
       "      <th>4</th>\n",
       "      <td>Female</td>\n",
       "      <td>84.630</td>\n",
       "    </tr>\n",
       "    <tr>\n",
       "      <th>...</th>\n",
       "      <td>...</td>\n",
       "      <td>...</td>\n",
       "    </tr>\n",
       "    <tr>\n",
       "      <th>995</th>\n",
       "      <td>Female</td>\n",
       "      <td>296.940</td>\n",
       "    </tr>\n",
       "    <tr>\n",
       "      <th>996</th>\n",
       "      <td>Male</td>\n",
       "      <td>121.863</td>\n",
       "    </tr>\n",
       "    <tr>\n",
       "      <th>997</th>\n",
       "      <td>Male</td>\n",
       "      <td>33.432</td>\n",
       "    </tr>\n",
       "    <tr>\n",
       "      <th>998</th>\n",
       "      <td>Male</td>\n",
       "      <td>69.111</td>\n",
       "    </tr>\n",
       "    <tr>\n",
       "      <th>999</th>\n",
       "      <td>Female</td>\n",
       "      <td>649.299</td>\n",
       "    </tr>\n",
       "  </tbody>\n",
       "</table>\n",
       "<p>1000 rows × 2 columns</p>\n",
       "</div>"
      ],
      "text/plain": [
       "     Gender    Total\n",
       "0    Female  172.746\n",
       "1    Female   60.816\n",
       "2      Male  107.142\n",
       "3    Female  590.436\n",
       "4    Female   84.630\n",
       "..      ...      ...\n",
       "995  Female  296.940\n",
       "996    Male  121.863\n",
       "997    Male   33.432\n",
       "998    Male   69.111\n",
       "999  Female  649.299\n",
       "\n",
       "[1000 rows x 2 columns]"
      ]
     },
     "execution_count": 5,
     "metadata": {},
     "output_type": "execute_result"
    }
   ],
   "source": [
    "df=pd.DataFrame(sales, columns = ['Gender', 'Total'])\n",
    "df"
   ]
  },
  {
   "cell_type": "code",
   "execution_count": 10,
   "metadata": {},
   "outputs": [
    {
     "data": {
      "text/html": [
       "<div>\n",
       "<style scoped>\n",
       "    .dataframe tbody tr th:only-of-type {\n",
       "        vertical-align: middle;\n",
       "    }\n",
       "\n",
       "    .dataframe tbody tr th {\n",
       "        vertical-align: top;\n",
       "    }\n",
       "\n",
       "    .dataframe thead th {\n",
       "        text-align: right;\n",
       "    }\n",
       "</style>\n",
       "<table border=\"1\" class=\"dataframe\">\n",
       "  <thead>\n",
       "    <tr style=\"text-align: right;\">\n",
       "      <th></th>\n",
       "      <th>Total</th>\n",
       "    </tr>\n",
       "    <tr>\n",
       "      <th>Gender</th>\n",
       "      <th></th>\n",
       "    </tr>\n",
       "  </thead>\n",
       "  <tbody>\n",
       "    <tr>\n",
       "      <th>Female</th>\n",
       "      <td>335.095659</td>\n",
       "    </tr>\n",
       "    <tr>\n",
       "      <th>Male</th>\n",
       "      <td>310.789226</td>\n",
       "    </tr>\n",
       "  </tbody>\n",
       "</table>\n",
       "</div>"
      ],
      "text/plain": [
       "             Total\n",
       "Gender            \n",
       "Female  335.095659\n",
       "Male    310.789226"
      ]
     },
     "execution_count": 10,
     "metadata": {},
     "output_type": "execute_result"
    }
   ],
   "source": [
    "df.groupby('Gender').mean()"
   ]
  },
  {
   "cell_type": "markdown",
   "metadata": {
    "id": "SuVUTUCer8EV"
   },
   "source": [
    "# Hypothesis testing"
   ]
  },
  {
   "cell_type": "markdown",
   "metadata": {
    "id": "Hm1lCNIErUxU"
   },
   "source": [
    "### H0: On Average, Female spend more than Male customers in the market\n",
    "### H1: On Average, Female spend less than or equal to Male customers in the market"
   ]
  },
  {
   "cell_type": "code",
   "execution_count": 50,
   "metadata": {
    "colab": {
     "base_uri": "https://localhost:8080/",
     "height": 424
    },
    "id": "5kbFdoxMr2t7",
    "outputId": "da6cb403-dfe8-4d7e-d9fa-7f33284162a9"
   },
   "outputs": [
    {
     "data": {
      "text/html": [
       "<div>\n",
       "<style scoped>\n",
       "    .dataframe tbody tr th:only-of-type {\n",
       "        vertical-align: middle;\n",
       "    }\n",
       "\n",
       "    .dataframe tbody tr th {\n",
       "        vertical-align: top;\n",
       "    }\n",
       "\n",
       "    .dataframe thead th {\n",
       "        text-align: right;\n",
       "    }\n",
       "</style>\n",
       "<table border=\"1\" class=\"dataframe\">\n",
       "  <thead>\n",
       "    <tr style=\"text-align: right;\">\n",
       "      <th></th>\n",
       "      <th>Gender</th>\n",
       "      <th>Total</th>\n",
       "    </tr>\n",
       "  </thead>\n",
       "  <tbody>\n",
       "    <tr>\n",
       "      <th>923</th>\n",
       "      <td>Male</td>\n",
       "      <td>680.6100</td>\n",
       "    </tr>\n",
       "    <tr>\n",
       "      <th>909</th>\n",
       "      <td>Female</td>\n",
       "      <td>182.9100</td>\n",
       "    </tr>\n",
       "    <tr>\n",
       "      <th>748</th>\n",
       "      <td>Female</td>\n",
       "      <td>723.2400</td>\n",
       "    </tr>\n",
       "    <tr>\n",
       "      <th>120</th>\n",
       "      <td>Male</td>\n",
       "      <td>128.4255</td>\n",
       "    </tr>\n",
       "    <tr>\n",
       "      <th>697</th>\n",
       "      <td>Male</td>\n",
       "      <td>391.4190</td>\n",
       "    </tr>\n",
       "    <tr>\n",
       "      <th>...</th>\n",
       "      <td>...</td>\n",
       "      <td>...</td>\n",
       "    </tr>\n",
       "    <tr>\n",
       "      <th>332</th>\n",
       "      <td>Female</td>\n",
       "      <td>80.2200</td>\n",
       "    </tr>\n",
       "    <tr>\n",
       "      <th>599</th>\n",
       "      <td>Male</td>\n",
       "      <td>287.9100</td>\n",
       "    </tr>\n",
       "    <tr>\n",
       "      <th>646</th>\n",
       "      <td>Male</td>\n",
       "      <td>176.9250</td>\n",
       "    </tr>\n",
       "    <tr>\n",
       "      <th>6</th>\n",
       "      <td>Male</td>\n",
       "      <td>69.7200</td>\n",
       "    </tr>\n",
       "    <tr>\n",
       "      <th>601</th>\n",
       "      <td>Male</td>\n",
       "      <td>455.1225</td>\n",
       "    </tr>\n",
       "  </tbody>\n",
       "</table>\n",
       "<p>200 rows × 2 columns</p>\n",
       "</div>"
      ],
      "text/plain": [
       "     Gender     Total\n",
       "923    Male  680.6100\n",
       "909  Female  182.9100\n",
       "748  Female  723.2400\n",
       "120    Male  128.4255\n",
       "697    Male  391.4190\n",
       "..      ...       ...\n",
       "332  Female   80.2200\n",
       "599    Male  287.9100\n",
       "646    Male  176.9250\n",
       "6      Male   69.7200\n",
       "601    Male  455.1225\n",
       "\n",
       "[200 rows x 2 columns]"
      ]
     },
     "execution_count": 50,
     "metadata": {},
     "output_type": "execute_result"
    }
   ],
   "source": [
    "sample=df.sample(200)\n",
    "sample"
   ]
  },
  {
   "cell_type": "code",
   "execution_count": 51,
   "metadata": {
    "id": "3wmq7FWMsktb"
   },
   "outputs": [
    {
     "data": {
      "text/plain": [
       "309.6140775000001"
      ]
     },
     "execution_count": 51,
     "metadata": {},
     "output_type": "execute_result"
    }
   ],
   "source": [
    "sample.Total.mean()"
   ]
  },
  {
   "cell_type": "markdown",
   "metadata": {
    "id": "-OH-l8Uis8-S"
   },
   "source": [
    "## z test"
   ]
  },
  {
   "cell_type": "code",
   "execution_count": 52,
   "metadata": {
    "colab": {
     "base_uri": "https://localhost:8080/"
    },
    "id": "0119moJNtgrd",
    "outputId": "6bf921e6-36fd-44b3-9279-fd265940f3df"
   },
   "outputs": [
    {
     "data": {
      "text/plain": [
       "241.83453333309896"
      ]
     },
     "execution_count": 52,
     "metadata": {},
     "output_type": "execute_result"
    }
   ],
   "source": [
    "#standard deviation of the population\n",
    "sd=np.std(sample['Total'])\n",
    "sd"
   ]
  },
  {
   "cell_type": "code",
   "execution_count": 53,
   "metadata": {
    "colab": {
     "base_uri": "https://localhost:8080/"
    },
    "id": "9NW_OavM1GJZ",
    "outputId": "70307e4e-7b9b-4b16-eaa3-bf07afd02738"
   },
   "outputs": [
    {
     "name": "stderr",
     "output_type": "stream",
     "text": [
      "C:\\Users\\aravi\\AppData\\Local\\Temp\\ipykernel_40532\\1487051019.py:1: FutureWarning: Dropping of nuisance columns in DataFrame reductions (with 'numeric_only=None') is deprecated; in a future version this will raise TypeError.  Select only valid columns before calling the reduction.\n",
      "  sample.std()\n"
     ]
    },
    {
     "data": {
      "text/plain": [
       "Total    242.441396\n",
       "dtype: float64"
      ]
     },
     "execution_count": 53,
     "metadata": {},
     "output_type": "execute_result"
    }
   ],
   "source": [
    "sample.std()"
   ]
  },
  {
   "cell_type": "code",
   "execution_count": 54,
   "metadata": {
    "id": "3L5SpnNys4Bk"
   },
   "outputs": [],
   "source": [
    "xbar=sample.Total.mean()\n",
    "mu=df.Total.mean()\n",
    "n=200 #sample size\n",
    "alpha=0.05"
   ]
  },
  {
   "cell_type": "code",
   "execution_count": 55,
   "metadata": {
    "colab": {
     "base_uri": "https://localhost:8080/"
    },
    "id": "TWpySoh60KNo",
    "outputId": "756a587e-29fe-4ef5-e6ab-ae10db633154"
   },
   "outputs": [
    {
     "data": {
      "text/plain": [
       "309.6140775000001"
      ]
     },
     "execution_count": 55,
     "metadata": {},
     "output_type": "execute_result"
    }
   ],
   "source": [
    "xbar"
   ]
  },
  {
   "cell_type": "code",
   "execution_count": 56,
   "metadata": {},
   "outputs": [
    {
     "data": {
      "text/plain": [
       "322.96674899999965"
      ]
     },
     "execution_count": 56,
     "metadata": {},
     "output_type": "execute_result"
    }
   ],
   "source": [
    "mu"
   ]
  },
  {
   "cell_type": "code",
   "execution_count": 57,
   "metadata": {
    "colab": {
     "base_uri": "https://localhost:8080/"
    },
    "id": "g31jZlU6uijj",
    "outputId": "eb17c549-8c1c-4376-caca-737708ea5ee8"
   },
   "outputs": [
    {
     "data": {
      "text/plain": [
       "-0.7808450211369179"
      ]
     },
     "execution_count": 57,
     "metadata": {},
     "output_type": "execute_result"
    }
   ],
   "source": [
    "zvalue=(xbar-mu)/(sd/np.sqrt(n))\n",
    "zvalue"
   ]
  },
  {
   "cell_type": "code",
   "execution_count": 58,
   "metadata": {
    "colab": {
     "base_uri": "https://localhost:8080/"
    },
    "id": "sx26xduBvJjj",
    "outputId": "eeb8f646-1b5b-4998-baed-02747c92648b"
   },
   "outputs": [
    {
     "data": {
      "text/plain": [
       "-1.6448536269514729"
      ]
     },
     "execution_count": 58,
     "metadata": {},
     "output_type": "execute_result"
    }
   ],
   "source": [
    "z_critical = st.norm.ppf(alpha)  #One tail Test\n",
    "z_critical"
   ]
  },
  {
   "cell_type": "code",
   "execution_count": 59,
   "metadata": {
    "colab": {
     "base_uri": "https://localhost:8080/"
    },
    "id": "iwDMMiU_v6fZ",
    "outputId": "f304d2f9-e0ff-49c5-f628-371141a79b0b"
   },
   "outputs": [
    {
     "name": "stdout",
     "output_type": "stream",
     "text": [
      "Fail to reject Null Hypothesis\n"
     ]
    }
   ],
   "source": [
    "if (zvalue<z_critical and abs(zvalue)> abs(z_critical)):\n",
    "  print(\"Reject Null Hypotheisis\")\n",
    "else:\n",
    "  print(\"Fail to reject Null Hypothesis\")"
   ]
  },
  {
   "cell_type": "markdown",
   "metadata": {
    "id": "eIE-1KUfzEsG"
   },
   "source": [
    "## Test using p value"
   ]
  },
  {
   "cell_type": "code",
   "execution_count": 22,
   "metadata": {
    "colab": {
     "base_uri": "https://localhost:8080/"
    },
    "id": "jGa_T8KKyfGW",
    "outputId": "c16af9b8-7a14-49c8-aba8-a4b5bc1c7ae4"
   },
   "outputs": [
    {
     "data": {
      "text/plain": [
       "0.49999999999998834"
      ]
     },
     "execution_count": 22,
     "metadata": {},
     "output_type": "execute_result"
    }
   ],
   "source": [
    "p_val = (1 - st.norm.cdf(abs(zvalue)))\n",
    "p_val"
   ]
  },
  {
   "cell_type": "code",
   "execution_count": 23,
   "metadata": {
    "colab": {
     "base_uri": "https://localhost:8080/"
    },
    "id": "1rK0k4kCy1DW",
    "outputId": "923c285d-4321-433c-c838-2423ee7336ef"
   },
   "outputs": [
    {
     "name": "stdout",
     "output_type": "stream",
     "text": [
      "Fail to reject Null Hypothesis\n"
     ]
    }
   ],
   "source": [
    "#comparing with alpha value\n",
    "if p_val<alpha:\n",
    "  print(\"Reject Null Hypotheisis\")\n",
    "else:\n",
    "  print(\"Fail to reject Null Hypothesis\")"
   ]
  },
  {
   "cell_type": "markdown",
   "metadata": {
    "id": "dmkISVxSwqU8"
   },
   "source": [
    "### Hence we cannot reject the null hypothesis, therefore we can conclude that female spend more than male on average"
   ]
  },
  {
   "cell_type": "markdown",
   "metadata": {
    "id": "Q8GSIuZgza6C"
   },
   "source": [
    "## T test"
   ]
  },
  {
   "cell_type": "code",
   "execution_count": 33,
   "metadata": {
    "colab": {
     "base_uri": "https://localhost:8080/",
     "height": 833
    },
    "id": "tLEWlBXQ1Z3c",
    "outputId": "adeb23b4-3e90-41c0-9ddb-de943f5c8c85"
   },
   "outputs": [
    {
     "data": {
      "text/html": [
       "<div>\n",
       "<style scoped>\n",
       "    .dataframe tbody tr th:only-of-type {\n",
       "        vertical-align: middle;\n",
       "    }\n",
       "\n",
       "    .dataframe tbody tr th {\n",
       "        vertical-align: top;\n",
       "    }\n",
       "\n",
       "    .dataframe thead th {\n",
       "        text-align: right;\n",
       "    }\n",
       "</style>\n",
       "<table border=\"1\" class=\"dataframe\">\n",
       "  <thead>\n",
       "    <tr style=\"text-align: right;\">\n",
       "      <th></th>\n",
       "      <th>Gender</th>\n",
       "      <th>Total</th>\n",
       "    </tr>\n",
       "  </thead>\n",
       "  <tbody>\n",
       "    <tr>\n",
       "      <th>36</th>\n",
       "      <td>Male</td>\n",
       "      <td>944.6220</td>\n",
       "    </tr>\n",
       "    <tr>\n",
       "      <th>60</th>\n",
       "      <td>Female</td>\n",
       "      <td>241.4580</td>\n",
       "    </tr>\n",
       "    <tr>\n",
       "      <th>456</th>\n",
       "      <td>Female</td>\n",
       "      <td>173.2080</td>\n",
       "    </tr>\n",
       "    <tr>\n",
       "      <th>22</th>\n",
       "      <td>Male</td>\n",
       "      <td>318.1080</td>\n",
       "    </tr>\n",
       "    <tr>\n",
       "      <th>27</th>\n",
       "      <td>Male</td>\n",
       "      <td>608.2020</td>\n",
       "    </tr>\n",
       "    <tr>\n",
       "      <th>956</th>\n",
       "      <td>Male</td>\n",
       "      <td>271.2780</td>\n",
       "    </tr>\n",
       "    <tr>\n",
       "      <th>90</th>\n",
       "      <td>Male</td>\n",
       "      <td>352.5795</td>\n",
       "    </tr>\n",
       "    <tr>\n",
       "      <th>481</th>\n",
       "      <td>Male</td>\n",
       "      <td>937.8180</td>\n",
       "    </tr>\n",
       "    <tr>\n",
       "      <th>774</th>\n",
       "      <td>Male</td>\n",
       "      <td>523.8450</td>\n",
       "    </tr>\n",
       "    <tr>\n",
       "      <th>601</th>\n",
       "      <td>Male</td>\n",
       "      <td>455.1225</td>\n",
       "    </tr>\n",
       "    <tr>\n",
       "      <th>137</th>\n",
       "      <td>Female</td>\n",
       "      <td>20.1075</td>\n",
       "    </tr>\n",
       "    <tr>\n",
       "      <th>398</th>\n",
       "      <td>Male</td>\n",
       "      <td>323.1480</td>\n",
       "    </tr>\n",
       "    <tr>\n",
       "      <th>617</th>\n",
       "      <td>Female</td>\n",
       "      <td>131.9220</td>\n",
       "    </tr>\n",
       "    <tr>\n",
       "      <th>66</th>\n",
       "      <td>Male</td>\n",
       "      <td>146.2230</td>\n",
       "    </tr>\n",
       "    <tr>\n",
       "      <th>632</th>\n",
       "      <td>Male</td>\n",
       "      <td>888.4050</td>\n",
       "    </tr>\n",
       "    <tr>\n",
       "      <th>21</th>\n",
       "      <td>Female</td>\n",
       "      <td>520.4115</td>\n",
       "    </tr>\n",
       "    <tr>\n",
       "      <th>323</th>\n",
       "      <td>Female</td>\n",
       "      <td>26.7225</td>\n",
       "    </tr>\n",
       "    <tr>\n",
       "      <th>530</th>\n",
       "      <td>Male</td>\n",
       "      <td>293.1390</td>\n",
       "    </tr>\n",
       "    <tr>\n",
       "      <th>533</th>\n",
       "      <td>Female</td>\n",
       "      <td>193.4625</td>\n",
       "    </tr>\n",
       "    <tr>\n",
       "      <th>837</th>\n",
       "      <td>Male</td>\n",
       "      <td>728.1120</td>\n",
       "    </tr>\n",
       "    <tr>\n",
       "      <th>6</th>\n",
       "      <td>Male</td>\n",
       "      <td>69.7200</td>\n",
       "    </tr>\n",
       "    <tr>\n",
       "      <th>558</th>\n",
       "      <td>Male</td>\n",
       "      <td>153.0480</td>\n",
       "    </tr>\n",
       "    <tr>\n",
       "      <th>78</th>\n",
       "      <td>Male</td>\n",
       "      <td>310.0440</td>\n",
       "    </tr>\n",
       "    <tr>\n",
       "      <th>940</th>\n",
       "      <td>Male</td>\n",
       "      <td>95.8650</td>\n",
       "    </tr>\n",
       "    <tr>\n",
       "      <th>567</th>\n",
       "      <td>Female</td>\n",
       "      <td>317.2260</td>\n",
       "    </tr>\n",
       "    <tr>\n",
       "      <th>222</th>\n",
       "      <td>Male</td>\n",
       "      <td>196.1400</td>\n",
       "    </tr>\n",
       "    <tr>\n",
       "      <th>62</th>\n",
       "      <td>Male</td>\n",
       "      <td>93.2925</td>\n",
       "    </tr>\n",
       "    <tr>\n",
       "      <th>363</th>\n",
       "      <td>Female</td>\n",
       "      <td>198.9960</td>\n",
       "    </tr>\n",
       "    <tr>\n",
       "      <th>182</th>\n",
       "      <td>Female</td>\n",
       "      <td>356.3280</td>\n",
       "    </tr>\n",
       "    <tr>\n",
       "      <th>879</th>\n",
       "      <td>Male</td>\n",
       "      <td>764.1900</td>\n",
       "    </tr>\n",
       "  </tbody>\n",
       "</table>\n",
       "</div>"
      ],
      "text/plain": [
       "     Gender     Total\n",
       "36     Male  944.6220\n",
       "60   Female  241.4580\n",
       "456  Female  173.2080\n",
       "22     Male  318.1080\n",
       "27     Male  608.2020\n",
       "956    Male  271.2780\n",
       "90     Male  352.5795\n",
       "481    Male  937.8180\n",
       "774    Male  523.8450\n",
       "601    Male  455.1225\n",
       "137  Female   20.1075\n",
       "398    Male  323.1480\n",
       "617  Female  131.9220\n",
       "66     Male  146.2230\n",
       "632    Male  888.4050\n",
       "21   Female  520.4115\n",
       "323  Female   26.7225\n",
       "530    Male  293.1390\n",
       "533  Female  193.4625\n",
       "837    Male  728.1120\n",
       "6      Male   69.7200\n",
       "558    Male  153.0480\n",
       "78     Male  310.0440\n",
       "940    Male   95.8650\n",
       "567  Female  317.2260\n",
       "222    Male  196.1400\n",
       "62     Male   93.2925\n",
       "363  Female  198.9960\n",
       "182  Female  356.3280\n",
       "879    Male  764.1900"
      ]
     },
     "execution_count": 33,
     "metadata": {},
     "output_type": "execute_result"
    }
   ],
   "source": [
    "tsample=df.sample(30)\n",
    "tsample"
   ]
  },
  {
   "cell_type": "code",
   "execution_count": 34,
   "metadata": {
    "colab": {
     "base_uri": "https://localhost:8080/"
    },
    "id": "F6A-vB1F11XR",
    "outputId": "424575a0-fea1-48c4-823c-b17da6590ac9"
   },
   "outputs": [
    {
     "data": {
      "text/plain": [
       "265.69802620968505"
      ]
     },
     "execution_count": 34,
     "metadata": {},
     "output_type": "execute_result"
    }
   ],
   "source": [
    "t_sd=np.std(tsample['Total'])\n",
    "t_sd"
   ]
  },
  {
   "cell_type": "code",
   "execution_count": 35,
   "metadata": {
    "colab": {
     "base_uri": "https://localhost:8080/"
    },
    "id": "YJh7kVv11Xdv",
    "outputId": "7f7759d7-dbf1-4399-9af2-71e508eb2784"
   },
   "outputs": [],
   "source": [
    "xbar=tsample.Total.mean()\n",
    "mu=df.Total.mean()\n",
    "n=30\n",
    "alpha=0.05"
   ]
  },
  {
   "cell_type": "code",
   "execution_count": 36,
   "metadata": {},
   "outputs": [
    {
     "name": "stdout",
     "output_type": "stream",
     "text": [
      "xbar : 355.09144999999995\n",
      "mu : 322.96674899999965\n"
     ]
    }
   ],
   "source": [
    "print('xbar :', xbar)\n",
    "print('mu :', mu)"
   ]
  },
  {
   "cell_type": "code",
   "execution_count": 37,
   "metadata": {
    "colab": {
     "base_uri": "https://localhost:8080/"
    },
    "id": "AakDDIBlzaRY",
    "outputId": "38948655-d90a-4def-c704-a86a8973f3bf"
   },
   "outputs": [
    {
     "data": {
      "text/plain": [
       "0.6045340542847681"
      ]
     },
     "execution_count": 37,
     "metadata": {},
     "output_type": "execute_result"
    }
   ],
   "source": [
    "n = 25\n",
    "degrees_of_freedom = n-1\n",
    "t = (xbar - mu)/(t_sd / np.sqrt(n))\n",
    "t"
   ]
  },
  {
   "cell_type": "code",
   "execution_count": 38,
   "metadata": {
    "colab": {
     "base_uri": "https://localhost:8080/"
    },
    "id": "3RRYXOaB2ZLH",
    "outputId": "7fc05461-724a-4826-a0a5-1039d37ed675"
   },
   "outputs": [
    {
     "data": {
      "text/plain": [
       "-1.7108820799094282"
      ]
     },
     "execution_count": 38,
     "metadata": {},
     "output_type": "execute_result"
    }
   ],
   "source": [
    "t_critical = st.t.ppf(alpha, degrees_of_freedom)\n",
    "t_critical"
   ]
  },
  {
   "cell_type": "code",
   "execution_count": 39,
   "metadata": {
    "colab": {
     "base_uri": "https://localhost:8080/"
    },
    "id": "JJRp-I1i2hZV",
    "outputId": "54e289eb-a45c-42d5-a679-ee1b4583a431"
   },
   "outputs": [
    {
     "name": "stdout",
     "output_type": "stream",
     "text": [
      "Null hypothesis cannot be rejected\n"
     ]
    }
   ],
   "source": [
    "if (t > t_critical):\n",
    "    print(\"Null hypothesis cannot be rejected\")\n",
    "else:\n",
    "    print(\"Reject null hypothesis\")"
   ]
  },
  {
   "cell_type": "markdown",
   "metadata": {
    "id": "fI-70j2v28eX"
   },
   "source": [
    "### Both Z test and T test suggest the same ie., The Null Hypothesis cannot be rejected.\n",
    "### Thus concluding that, female customers spend more than male customers on average"
   ]
  }
 ],
 "metadata": {
  "colab": {
   "collapsed_sections": [
    "SuVUTUCer8EV",
    "-OH-l8Uis8-S",
    "Q8GSIuZgza6C"
   ],
   "provenance": []
  },
  "kernelspec": {
   "display_name": "Python 3 (ipykernel)",
   "language": "python",
   "name": "python3"
  },
  "language_info": {
   "codemirror_mode": {
    "name": "ipython",
    "version": 3
   },
   "file_extension": ".py",
   "mimetype": "text/x-python",
   "name": "python",
   "nbconvert_exporter": "python",
   "pygments_lexer": "ipython3",
   "version": "3.9.12"
  }
 },
 "nbformat": 4,
 "nbformat_minor": 4
}
